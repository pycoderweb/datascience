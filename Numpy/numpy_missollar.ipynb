{
 "cells": [
  {
   "cell_type": "code",
   "execution_count": 1,
   "metadata": {
    "colab": {
     "base_uri": "https://localhost:8080/"
    },
    "executionInfo": {
     "elapsed": 6678,
     "status": "ok",
     "timestamp": 1683519374507,
     "user": {
      "displayName": "shaxzod rahmonov",
      "userId": "13467889344189902496"
     },
     "user_tz": -300
    },
    "id": "o__Hlp0-jN3L",
    "outputId": "7c4b055a-6216-4596-a28e-d0247bf0928c"
   },
   "outputs": [
    {
     "name": "stdout",
     "output_type": "stream",
     "text": [
      "Looking in indexes: https://pypi.org/simple, https://us-python.pkg.dev/colab-wheels/public/simple/\n",
      "Requirement already satisfied: numpy in /usr/local/lib/python3.10/dist-packages (1.22.4)\n"
     ]
    }
   ],
   "source": [
    "!pip install numpy"
   ]
  },
  {
   "cell_type": "code",
   "execution_count": 7,
   "metadata": {
    "executionInfo": {
     "elapsed": 325,
     "status": "ok",
     "timestamp": 1683533194093,
     "user": {
      "displayName": "shaxzod rahmonov",
      "userId": "13467889344189902496"
     },
     "user_tz": -300
    },
    "id": "9OX2nX-Xkr6c"
   },
   "outputs": [],
   "source": [
    "import numpy as np"
   ]
  },
  {
   "cell_type": "code",
   "execution_count": 4,
   "metadata": {
    "executionInfo": {
     "elapsed": 3,
     "status": "ok",
     "timestamp": 1683519442353,
     "user": {
      "displayName": "shaxzod rahmonov",
      "userId": "13467889344189902496"
     },
     "user_tz": -300
    },
    "id": "7CDB9i9Nkw1x"
   },
   "outputs": [],
   "source": [
    "my_list = list(range(10000)) #normal\n",
    "my_array = np.array(range(10000)) # vektorlashgan"
   ]
  },
  {
   "cell_type": "code",
   "execution_count": 6,
   "metadata": {
    "colab": {
     "base_uri": "https://localhost:8080/"
    },
    "executionInfo": {
     "elapsed": 280,
     "status": "ok",
     "timestamp": 1683519567093,
     "user": {
      "displayName": "shaxzod rahmonov",
      "userId": "13467889344189902496"
     },
     "user_tz": -300
    },
    "id": "6NoBQB9GlAn0",
    "outputId": "6e1c8c9b-ad3b-4ef0-d6c8-29b984d4b464"
   },
   "outputs": [
    {
     "name": "stdout",
     "output_type": "stream",
     "text": [
      "CPU times: user 8.53 ms, sys: 783 µs, total: 9.31 ms\n",
      "Wall time: 10.4 ms\n"
     ]
    }
   ],
   "source": [
    "%time for _ in range(10) : [i*2 for i in my_list] #normal"
   ]
  },
  {
   "cell_type": "code",
   "execution_count": 8,
   "metadata": {
    "colab": {
     "base_uri": "https://localhost:8080/"
    },
    "executionInfo": {
     "elapsed": 5,
     "status": "ok",
     "timestamp": 1683519603659,
     "user": {
      "displayName": "shaxzod rahmonov",
      "userId": "13467889344189902496"
     },
     "user_tz": -300
    },
    "id": "jVGcM-FclYJ9",
    "outputId": "f5235781-473e-4681-a5c6-733e8148664f"
   },
   "outputs": [
    {
     "name": "stdout",
     "output_type": "stream",
     "text": [
      "CPU times: user 682 µs, sys: 1.01 ms, total: 1.69 ms\n",
      "Wall time: 1.69 ms\n"
     ]
    }
   ],
   "source": [
    "%time for _ in range(10) : my_array*2 #vektorlashgan"
   ]
  },
  {
   "cell_type": "code",
   "execution_count": 14,
   "metadata": {
    "executionInfo": {
     "elapsed": 331,
     "status": "ok",
     "timestamp": 1683522285314,
     "user": {
      "displayName": "shaxzod rahmonov",
      "userId": "13467889344189902496"
     },
     "user_tz": -300
    },
    "id": "CRoCyGS5lmDi"
   },
   "outputs": [],
   "source": [
    "list3 = [\n",
    "    [\n",
    "        [1,2,3],\n",
    "        [2,3,4],\n",
    "        [3,4,5]\n",
    "    ],\n",
    "    [\n",
    "       [11,12,1],\n",
    "       [12,13,16],\n",
    "       [22,33,44] \n",
    "    ],\n",
    "    [\n",
    "        [11,12,1],\n",
    "        [12,13,16],\n",
    "        [22,33,44] \n",
    "    ]\n",
    "]\n",
    "array3 = np.array(list3)\n"
   ]
  },
  {
   "cell_type": "code",
   "execution_count": 11,
   "metadata": {
    "colab": {
     "base_uri": "https://localhost:8080/"
    },
    "executionInfo": {
     "elapsed": 371,
     "status": "ok",
     "timestamp": 1683522151886,
     "user": {
      "displayName": "shaxzod rahmonov",
      "userId": "13467889344189902496"
     },
     "user_tz": -300
    },
    "id": "DJ0E4hqvvSD9",
    "outputId": "47c60d68-4387-4770-ab6a-75efa65dcab1"
   },
   "outputs": [
    {
     "data": {
      "text/plain": [
       "3"
      ]
     },
     "execution_count": 11,
     "metadata": {},
     "output_type": "execute_result"
    }
   ],
   "source": [
    "array3.ndim #massiv ulchami"
   ]
  },
  {
   "cell_type": "code",
   "execution_count": 15,
   "metadata": {
    "colab": {
     "base_uri": "https://localhost:8080/"
    },
    "executionInfo": {
     "elapsed": 334,
     "status": "ok",
     "timestamp": 1683522325710,
     "user": {
      "displayName": "shaxzod rahmonov",
      "userId": "13467889344189902496"
     },
     "user_tz": -300
    },
    "id": "TeJ84sNNvWKi",
    "outputId": "0e64ed20-0c65-4267-9564-6fb217687841"
   },
   "outputs": [
    {
     "data": {
      "text/plain": [
       "(3, 3, 3)"
      ]
     },
     "execution_count": 15,
     "metadata": {},
     "output_type": "execute_result"
    }
   ],
   "source": [
    "array3.shape # massiv qator va ustunlar soni (q,u)"
   ]
  },
  {
   "cell_type": "code",
   "execution_count": 16,
   "metadata": {
    "colab": {
     "base_uri": "https://localhost:8080/"
    },
    "executionInfo": {
     "elapsed": 296,
     "status": "ok",
     "timestamp": 1683522338221,
     "user": {
      "displayName": "shaxzod rahmonov",
      "userId": "13467889344189902496"
     },
     "user_tz": -300
    },
    "id": "AQzHMPthvtiR",
    "outputId": "7b0d8a31-d742-455b-c573-87e7c336febd"
   },
   "outputs": [
    {
     "data": {
      "text/plain": [
       "array([[[ 1,  2,  3],\n",
       "        [ 2,  3,  4],\n",
       "        [ 3,  4,  5]],\n",
       "\n",
       "       [[11, 12,  1],\n",
       "        [12, 13, 16],\n",
       "        [22, 33, 44]],\n",
       "\n",
       "       [[11, 12,  1],\n",
       "        [12, 13, 16],\n",
       "        [22, 33, 44]]])"
      ]
     },
     "execution_count": 16,
     "metadata": {},
     "output_type": "execute_result"
    }
   ],
   "source": [
    "array3"
   ]
  },
  {
   "cell_type": "code",
   "execution_count": 17,
   "metadata": {
    "colab": {
     "base_uri": "https://localhost:8080/"
    },
    "executionInfo": {
     "elapsed": 6,
     "status": "ok",
     "timestamp": 1683522348450,
     "user": {
      "displayName": "shaxzod rahmonov",
      "userId": "13467889344189902496"
     },
     "user_tz": -300
    },
    "id": "FPzOMlbowDry",
    "outputId": "ecf88dfb-3e1a-4810-d3b9-7ef3e71642df"
   },
   "outputs": [
    {
     "data": {
      "text/plain": [
       "27"
      ]
     },
     "execution_count": 17,
     "metadata": {},
     "output_type": "execute_result"
    }
   ],
   "source": [
    "array3.size #elementlar soni"
   ]
  },
  {
   "cell_type": "code",
   "execution_count": 18,
   "metadata": {
    "colab": {
     "base_uri": "https://localhost:8080/"
    },
    "executionInfo": {
     "elapsed": 8,
     "status": "ok",
     "timestamp": 1683522744816,
     "user": {
      "displayName": "shaxzod rahmonov",
      "userId": "13467889344189902496"
     },
     "user_tz": -300
    },
    "id": "Mom4mGEgwF6B",
    "outputId": "7fa8973c-12ac-4404-9d4a-3f4bfac31c00"
   },
   "outputs": [
    {
     "data": {
      "text/plain": [
       "array([[0., 0., 0., 0.],\n",
       "       [0., 0., 0., 0.],\n",
       "       [0., 0., 0., 0.]])"
      ]
     },
     "execution_count": 18,
     "metadata": {},
     "output_type": "execute_result"
    }
   ],
   "source": [
    "array4 = np.zeros((3,4))\n",
    "array4"
   ]
  },
  {
   "cell_type": "code",
   "execution_count": 19,
   "metadata": {
    "colab": {
     "base_uri": "https://localhost:8080/"
    },
    "executionInfo": {
     "elapsed": 6,
     "status": "ok",
     "timestamp": 1683522771890,
     "user": {
      "displayName": "shaxzod rahmonov",
      "userId": "13467889344189902496"
     },
     "user_tz": -300
    },
    "id": "rbeheIhKxm08",
    "outputId": "a773b01c-621a-4a1f-9e4e-3b0344e0216a"
   },
   "outputs": [
    {
     "data": {
      "text/plain": [
       "array([[1., 1., 1.],\n",
       "       [1., 1., 1.]])"
      ]
     },
     "execution_count": 19,
     "metadata": {},
     "output_type": "execute_result"
    }
   ],
   "source": [
    "array5 = np.ones(shape=(2,3))\n",
    "array5"
   ]
  },
  {
   "cell_type": "code",
   "execution_count": 20,
   "metadata": {
    "colab": {
     "base_uri": "https://localhost:8080/"
    },
    "executionInfo": {
     "elapsed": 327,
     "status": "ok",
     "timestamp": 1683522816068,
     "user": {
      "displayName": "shaxzod rahmonov",
      "userId": "13467889344189902496"
     },
     "user_tz": -300
    },
    "id": "0_4flI4TxtjP",
    "outputId": "b0453faa-7edc-4be8-ca24-3e6aa12cfd2a"
   },
   "outputs": [
    {
     "data": {
      "text/plain": [
       "array([ 1,  4,  7, 10, 13, 16, 19])"
      ]
     },
     "execution_count": 20,
     "metadata": {},
     "output_type": "execute_result"
    }
   ],
   "source": [
    "array6 = np.arange(1,20,3)\n",
    "array6"
   ]
  },
  {
   "cell_type": "code",
   "execution_count": 22,
   "metadata": {
    "colab": {
     "base_uri": "https://localhost:8080/"
    },
    "executionInfo": {
     "elapsed": 324,
     "status": "ok",
     "timestamp": 1683522916448,
     "user": {
      "displayName": "shaxzod rahmonov",
      "userId": "13467889344189902496"
     },
     "user_tz": -300
    },
    "id": "dwuZ5rRNx4VM",
    "outputId": "143d7961-2c67-42f2-ba63-6cf9a1b82d76"
   },
   "outputs": [
    {
     "data": {
      "text/plain": [
       "array([[0.70382556, 0.7289657 , 0.09804066],\n",
       "       [0.95298942, 0.87719561, 0.84479039]])"
      ]
     },
     "execution_count": 22,
     "metadata": {},
     "output_type": "execute_result"
    }
   ],
   "source": [
    "array7 = np.random.rand(2,3)\n",
    "array7"
   ]
  },
  {
   "cell_type": "code",
   "execution_count": 8,
   "metadata": {
    "colab": {
     "base_uri": "https://localhost:8080/"
    },
    "executionInfo": {
     "elapsed": 4,
     "status": "ok",
     "timestamp": 1683533198359,
     "user": {
      "displayName": "shaxzod rahmonov",
      "userId": "13467889344189902496"
     },
     "user_tz": -300
    },
    "id": "VpKzYrNByOup",
    "outputId": "8ba2d2ce-1c0c-4aa3-a321-ba2bc5863cf5"
   },
   "outputs": [
    {
     "data": {
      "text/plain": [
       "array([[3, 1, 2, 1],\n",
       "       [0, 2, 2, 2]])"
      ]
     },
     "execution_count": 8,
     "metadata": {},
     "output_type": "execute_result"
    }
   ],
   "source": [
    "array8 = np.random.randint(5, size=(2, 4)) # (2, 4) o'lchamli va max qiymati 5 gacha bo'lgan int sonlar\n",
    "array8"
   ]
  },
  {
   "cell_type": "code",
   "execution_count": 14,
   "metadata": {
    "colab": {
     "base_uri": "https://localhost:8080/"
    },
    "executionInfo": {
     "elapsed": 3,
     "status": "ok",
     "timestamp": 1683533295476,
     "user": {
      "displayName": "shaxzod rahmonov",
      "userId": "13467889344189902496"
     },
     "user_tz": -300
    },
    "id": "DqoIM_W1ZfIW",
    "outputId": "0c4f4f01-5f44-4381-b51c-225576e1ab29"
   },
   "outputs": [
    {
     "data": {
      "text/plain": [
       "array([[1, 2, 3],\n",
       "       [4, 5, 6]])"
      ]
     },
     "execution_count": 14,
     "metadata": {},
     "output_type": "execute_result"
    }
   ],
   "source": [
    "array1 = np.array([\n",
    "    [1,2,3],\n",
    "    [4,5,6]\n",
    "]\n",
    ")\n",
    "\n",
    "arrayd = array1[:2]\n",
    "arrayd"
   ]
  },
  {
   "cell_type": "code",
   "execution_count": 19,
   "metadata": {
    "colab": {
     "base_uri": "https://localhost:8080/"
    },
    "executionInfo": {
     "elapsed": 649,
     "status": "ok",
     "timestamp": 1683533510908,
     "user": {
      "displayName": "shaxzod rahmonov",
      "userId": "13467889344189902496"
     },
     "user_tz": -300
    },
    "id": "0ETys6okZl_i",
    "outputId": "3b22b889-bd7a-4979-bf09-c32a1e95e1a7"
   },
   "outputs": [
    {
     "data": {
      "text/plain": [
       "array([7, 4])"
      ]
     },
     "execution_count": 19,
     "metadata": {},
     "output_type": "execute_result"
    }
   ],
   "source": [
    "array3d = np.array(\n",
    "    [\n",
    "        [\n",
    "            [1,2,3],\n",
    "            [2,3,4],\n",
    "            [3,4,5]\n",
    "        ],\n",
    "        [\n",
    "            [9,8,7],\n",
    "            [3,7,4],\n",
    "            [0,9,11]\n",
    "        ],\n",
    "    ]\n",
    ")\n",
    "array3dq = array3d[1][1,1:]\n",
    "array3dq"
   ]
  },
  {
   "cell_type": "code",
   "execution_count": 20,
   "metadata": {
    "colab": {
     "base_uri": "https://localhost:8080/"
    },
    "executionInfo": {
     "elapsed": 6,
     "status": "ok",
     "timestamp": 1683533891521,
     "user": {
      "displayName": "shaxzod rahmonov",
      "userId": "13467889344189902496"
     },
     "user_tz": -300
    },
    "id": "RZsIInKEaTnV",
    "outputId": "a0003656-b22c-4e49-fa93-e80a55e77412"
   },
   "outputs": [
    {
     "data": {
      "text/plain": [
       "array(['Hasan', 'Husan', 'Mirzabek', 'Elyor', 'Hasan', 'Javohir', 'Elyor'],\n",
       "      dtype='<U8')"
      ]
     },
     "execution_count": 20,
     "metadata": {},
     "output_type": "execute_result"
    }
   ],
   "source": [
    "names = np.array(['Hasan', 'Husan', 'Mirzabek', 'Elyor', 'Hasan', 'Javohir', 'Elyor'])\n",
    "names"
   ]
  },
  {
   "cell_type": "code",
   "execution_count": 21,
   "metadata": {
    "colab": {
     "base_uri": "https://localhost:8080/"
    },
    "executionInfo": {
     "elapsed": 5,
     "status": "ok",
     "timestamp": 1683533915205,
     "user": {
      "displayName": "shaxzod rahmonov",
      "userId": "13467889344189902496"
     },
     "user_tz": -300
    },
    "id": "9kyPq-QCcIIj",
    "outputId": "f8df647b-ee59-4657-c132-cc97c7cc3e16"
   },
   "outputs": [
    {
     "data": {
      "text/plain": [
       "array([[ 0.37021163,  0.21092769,  0.76608797, -1.61097448],\n",
       "       [-0.17589322,  0.12171   , -0.2981649 ,  0.05647322],\n",
       "       [-0.53750031, -0.39810215, -0.27560624,  1.21113979],\n",
       "       [-0.1063289 , -1.45931008,  0.73645792,  1.12006818],\n",
       "       [ 0.20060589, -1.35963604, -0.94431144, -1.07172187],\n",
       "       [-1.40786699, -0.14039084,  1.75945194,  1.15157011],\n",
       "       [ 0.11802393,  1.90086522, -1.70705362,  0.52038247]])"
      ]
     },
     "execution_count": 21,
     "metadata": {},
     "output_type": "execute_result"
    }
   ],
   "source": [
    "data = np.random.randn(7, 4)\n",
    "data"
   ]
  },
  {
   "cell_type": "code",
   "execution_count": 22,
   "metadata": {
    "colab": {
     "base_uri": "https://localhost:8080/"
    },
    "executionInfo": {
     "elapsed": 4,
     "status": "ok",
     "timestamp": 1683533939586,
     "user": {
      "displayName": "shaxzod rahmonov",
      "userId": "13467889344189902496"
     },
     "user_tz": -300
    },
    "id": "IRwWgW-IcN9n",
    "outputId": "1e6a9832-d448-4b02-c2eb-cce29940259b"
   },
   "outputs": [
    {
     "data": {
      "text/plain": [
       "array([False, False,  True, False, False, False, False])"
      ]
     },
     "execution_count": 22,
     "metadata": {},
     "output_type": "execute_result"
    }
   ],
   "source": [
    "names == 'Mirzabek'\n"
   ]
  },
  {
   "cell_type": "code",
   "execution_count": 24,
   "metadata": {
    "colab": {
     "base_uri": "https://localhost:8080/"
    },
    "executionInfo": {
     "elapsed": 388,
     "status": "ok",
     "timestamp": 1683534060093,
     "user": {
      "displayName": "shaxzod rahmonov",
      "userId": "13467889344189902496"
     },
     "user_tz": -300
    },
    "id": "0Ms_79QecTwo",
    "outputId": "c23eae5f-761d-48e1-93d7-de0981ed0934"
   },
   "outputs": [
    {
     "data": {
      "text/plain": [
       "array([[-0.1063289 , -1.45931008,  0.73645792,  1.12006818],\n",
       "       [ 0.11802393,  1.90086522, -1.70705362,  0.52038247]])"
      ]
     },
     "execution_count": 24,
     "metadata": {},
     "output_type": "execute_result"
    }
   ],
   "source": [
    "data[names== 'Elyor'] #Elyorga tegishli barcha malumotlar"
   ]
  },
  {
   "cell_type": "code",
   "execution_count": 33,
   "metadata": {
    "colab": {
     "base_uri": "https://localhost:8080/"
    },
    "executionInfo": {
     "elapsed": 288,
     "status": "ok",
     "timestamp": 1683534504577,
     "user": {
      "displayName": "shaxzod rahmonov",
      "userId": "13467889344189902496"
     },
     "user_tz": -300
    },
    "id": "FBjz2ktOccB7",
    "outputId": "60bb222d-4733-4ff4-adf3-9eb55f0b97e4"
   },
   "outputs": [
    {
     "data": {
      "text/plain": [
       "array([False, False,  True,  True, False, False,  True])"
      ]
     },
     "execution_count": 33,
     "metadata": {},
     "output_type": "execute_result"
    }
   ],
   "source": [
    "d = (names== 'Elyor')  | (names=='Mirzabek') #\n",
    "d"
   ]
  },
  {
   "cell_type": "code",
   "execution_count": 34,
   "metadata": {
    "colab": {
     "base_uri": "https://localhost:8080/"
    },
    "executionInfo": {
     "elapsed": 304,
     "status": "ok",
     "timestamp": 1683534526923,
     "user": {
      "displayName": "shaxzod rahmonov",
      "userId": "13467889344189902496"
     },
     "user_tz": -300
    },
    "id": "fMgJbBPMc7zi",
    "outputId": "64afbb0a-2d33-4f3a-ab31-074abcc90da1"
   },
   "outputs": [
    {
     "data": {
      "text/plain": [
       "array([[-0.53750031, -0.39810215, -0.27560624,  1.21113979],\n",
       "       [-0.1063289 , -1.45931008,  0.73645792,  1.12006818],\n",
       "       [ 0.11802393,  1.90086522, -1.70705362,  0.52038247]])"
      ]
     },
     "execution_count": 34,
     "metadata": {},
     "output_type": "execute_result"
    }
   ],
   "source": [
    "data[d]"
   ]
  },
  {
   "cell_type": "code",
   "execution_count": 35,
   "metadata": {
    "colab": {
     "base_uri": "https://localhost:8080/"
    },
    "executionInfo": {
     "elapsed": 5,
     "status": "ok",
     "timestamp": 1683534797617,
     "user": {
      "displayName": "shaxzod rahmonov",
      "userId": "13467889344189902496"
     },
     "user_tz": -300
    },
    "id": "3RfjAILZejX5",
    "outputId": "97d6b60c-3f62-43cf-b660-0b93324da371"
   },
   "outputs": [
    {
     "data": {
      "text/plain": [
       "array([[ 0.37021163,  0.21092769,  0.76608797, -1.61097448],\n",
       "       [-0.17589322,  0.12171   , -0.2981649 ,  0.05647322],\n",
       "       [-0.53750031, -0.39810215, -0.27560624,  1.21113979],\n",
       "       [-0.1063289 , -1.45931008,  0.73645792,  1.12006818],\n",
       "       [ 0.20060589, -1.35963604, -0.94431144, -1.07172187],\n",
       "       [-1.40786699, -0.14039084,  1.75945194,  1.15157011],\n",
       "       [ 0.11802393,  1.90086522, -1.70705362,  0.52038247]])"
      ]
     },
     "execution_count": 35,
     "metadata": {},
     "output_type": "execute_result"
    }
   ],
   "source": [
    "data"
   ]
  },
  {
   "cell_type": "code",
   "execution_count": 38,
   "metadata": {
    "colab": {
     "base_uri": "https://localhost:8080/"
    },
    "executionInfo": {
     "elapsed": 7,
     "status": "ok",
     "timestamp": 1683534820380,
     "user": {
      "displayName": "shaxzod rahmonov",
      "userId": "13467889344189902496"
     },
     "user_tz": -300
    },
    "id": "09OdnW-vflfo",
    "outputId": "71b20185-a5ce-4057-bebb-1ba472c69da9"
   },
   "outputs": [
    {
     "data": {
      "text/plain": [
       "array([[0.37021163, 0.21092769, 0.76608797, 0.        ],\n",
       "       [0.        , 0.12171   , 0.        , 0.05647322],\n",
       "       [0.        , 0.        , 0.        , 1.21113979],\n",
       "       [0.        , 0.        , 0.73645792, 1.12006818],\n",
       "       [0.20060589, 0.        , 0.        , 0.        ],\n",
       "       [0.        , 0.        , 1.75945194, 1.15157011],\n",
       "       [0.11802393, 1.90086522, 0.        , 0.52038247]])"
      ]
     },
     "execution_count": 38,
     "metadata": {},
     "output_type": "execute_result"
    }
   ],
   "source": [
    "data[data<0] = 0\n",
    "data"
   ]
  },
  {
   "cell_type": "code",
   "execution_count": 41,
   "metadata": {
    "colab": {
     "base_uri": "https://localhost:8080/"
    },
    "executionInfo": {
     "elapsed": 331,
     "status": "ok",
     "timestamp": 1683535570629,
     "user": {
      "displayName": "shaxzod rahmonov",
      "userId": "13467889344189902496"
     },
     "user_tz": -300
    },
    "id": "0LalNRvxfnbW",
    "outputId": "b9409798-6cfe-4c6d-c7a9-d75050258a37"
   },
   "outputs": [
    {
     "data": {
      "text/plain": [
       "array([1, 2, 3, 4, 5, 6, 7, 8])"
      ]
     },
     "execution_count": 41,
     "metadata": {},
     "output_type": "execute_result"
    }
   ],
   "source": [
    "arr = np.arange(1,9,)\n",
    "arr"
   ]
  },
  {
   "cell_type": "code",
   "execution_count": 57,
   "metadata": {
    "colab": {
     "base_uri": "https://localhost:8080/"
    },
    "executionInfo": {
     "elapsed": 279,
     "status": "ok",
     "timestamp": 1683539358262,
     "user": {
      "displayName": "shaxzod rahmonov",
      "userId": "13467889344189902496"
     },
     "user_tz": -300
    },
    "id": "-zzNkB2_ic84",
    "outputId": "9b7dcfe4-ca18-4eee-fa66-608bac3d4d8f"
   },
   "outputs": [
    {
     "name": "stdout",
     "output_type": "stream",
     "text": [
      "[[[ 0  1  2]\n",
      "  [ 3  4  5]\n",
      "  [ 6  7  8]]\n",
      "\n",
      " [[ 9 10 11]\n",
      "  [12 13 14]\n",
      "  [15 16 17]]\n",
      "\n",
      " [[18 19 20]\n",
      "  [21 22 23]\n",
      "  [24 25 26]]]\n",
      "\n",
      "\n",
      "\n",
      "[[19 20]\n",
      " [22 23]]\n"
     ]
    }
   ],
   "source": [
    "arr = np.arange(27).reshape(3,3,3)\n",
    "print(arr)\n",
    "print('\\n\\n')\n",
    "print(arr[2,:2,1:3])"
   ]
  },
  {
   "cell_type": "code",
   "execution_count": 67,
   "metadata": {
    "colab": {
     "base_uri": "https://localhost:8080/"
    },
    "executionInfo": {
     "elapsed": 420,
     "status": "ok",
     "timestamp": 1683540492805,
     "user": {
      "displayName": "shaxzod rahmonov",
      "userId": "13467889344189902496"
     },
     "user_tz": -300
    },
    "id": "VRDImBRSmI-U",
    "outputId": "f0a7b57f-4134-4e15-ddf2-92d275b3999b"
   },
   "outputs": [
    {
     "data": {
      "text/plain": [
       "array([[7, 7, 4, 2],\n",
       "       [1, 5, 1, 9],\n",
       "       [7, 5, 9, 6],\n",
       "       [5, 3, 7, 4]])"
      ]
     },
     "execution_count": 67,
     "metadata": {},
     "output_type": "execute_result"
    }
   ],
   "source": [
    "ismlar =  np.array(['Hasan', 'Husan', 'Javohir', 'Elyor', 'Hasan', 'Javohir', 'Elyor'])\n",
    "data = np.array([ [5, 6, 1, 1], [9, 1, 1, 1], [7, 7, 4, 2], [1, 5, 1, 9], [9, 9, 4, 5], [7, 5, 9, 6], [5, 3, 7, 4] ])\n",
    "flag = (ismlar=='Javohir') | (ismlar=='Elyor')\n",
    "data[flag]"
   ]
  },
  {
   "cell_type": "code",
   "execution_count": 68,
   "metadata": {
    "colab": {
     "base_uri": "https://localhost:8080/"
    },
    "executionInfo": {
     "elapsed": 507,
     "status": "ok",
     "timestamp": 1683546017504,
     "user": {
      "displayName": "shaxzod rahmonov",
      "userId": "13467889344189902496"
     },
     "user_tz": -300
    },
    "id": "a1XY_Ne2yx88",
    "outputId": "f23c077b-ae1f-42f3-df00-7b841c9b4723"
   },
   "outputs": [
    {
     "data": {
      "text/plain": [
       "array([[0, 1],\n",
       "       [2, 3],\n",
       "       [4, 5]])"
      ]
     },
     "execution_count": 68,
     "metadata": {},
     "output_type": "execute_result"
    }
   ],
   "source": [
    "a = np.arange(6).reshape(3,2)\n",
    "a"
   ]
  },
  {
   "cell_type": "code",
   "execution_count": 69,
   "metadata": {
    "colab": {
     "base_uri": "https://localhost:8080/"
    },
    "executionInfo": {
     "elapsed": 374,
     "status": "ok",
     "timestamp": 1683546024597,
     "user": {
      "displayName": "shaxzod rahmonov",
      "userId": "13467889344189902496"
     },
     "user_tz": -300
    },
    "id": "P9rAC92WKYrm",
    "outputId": "a58bb556-6344-4a48-ee5a-0186707c8765"
   },
   "outputs": [
    {
     "data": {
      "text/plain": [
       "array([[0, 2, 4],\n",
       "       [1, 3, 5]])"
      ]
     },
     "execution_count": 69,
     "metadata": {},
     "output_type": "execute_result"
    }
   ],
   "source": [
    "a.T"
   ]
  },
  {
   "cell_type": "code",
   "execution_count": 75,
   "metadata": {
    "colab": {
     "base_uri": "https://localhost:8080/"
    },
    "executionInfo": {
     "elapsed": 373,
     "status": "ok",
     "timestamp": 1683546072535,
     "user": {
      "displayName": "shaxzod rahmonov",
      "userId": "13467889344189902496"
     },
     "user_tz": -300
    },
    "id": "PyCOVmVlKbSw",
    "outputId": "539c4a2d-e890-485f-db27-1e0bbf51b7a6"
   },
   "outputs": [
    {
     "data": {
      "text/plain": [
       "array([[0, 2, 4],\n",
       "       [1, 3, 5]])"
      ]
     },
     "execution_count": 75,
     "metadata": {},
     "output_type": "execute_result"
    }
   ],
   "source": [
    "a.swapaxes(0,1)"
   ]
  },
  {
   "cell_type": "code",
   "execution_count": 76,
   "metadata": {
    "colab": {
     "base_uri": "https://localhost:8080/"
    },
    "executionInfo": {
     "elapsed": 289,
     "status": "ok",
     "timestamp": 1683546100880,
     "user": {
      "displayName": "shaxzod rahmonov",
      "userId": "13467889344189902496"
     },
     "user_tz": -300
    },
    "id": "dnE3vmIHKacu",
    "outputId": "56e5d3bd-e7b8-4f40-c5ba-18775cb31960"
   },
   "outputs": [
    {
     "data": {
      "text/plain": [
       "array([[ 1,  3,  5],\n",
       "       [ 3, 13, 23],\n",
       "       [ 5, 23, 41]])"
      ]
     },
     "execution_count": 76,
     "metadata": {},
     "output_type": "execute_result"
    }
   ],
   "source": [
    "np.dot(a,a.T)"
   ]
  },
  {
   "cell_type": "code",
   "execution_count": 79,
   "metadata": {
    "colab": {
     "base_uri": "https://localhost:8080/"
    },
    "executionInfo": {
     "elapsed": 353,
     "status": "ok",
     "timestamp": 1683547866302,
     "user": {
      "displayName": "shaxzod rahmonov",
      "userId": "13467889344189902496"
     },
     "user_tz": -300
    },
    "id": "WigbEh4OKtFG",
    "outputId": "87b05933-fe85-4567-c974-650f6df18ae2"
   },
   "outputs": [
    {
     "data": {
      "text/plain": [
       "array([ 0.09411333, -1.51325516, -0.07608444,  0.65035903, -0.49856299,\n",
       "       -0.46194772])"
      ]
     },
     "execution_count": 79,
     "metadata": {},
     "output_type": "execute_result"
    }
   ],
   "source": [
    "arr = np.random.randn(6)\n",
    "arr"
   ]
  },
  {
   "cell_type": "code",
   "execution_count": 80,
   "metadata": {
    "colab": {
     "base_uri": "https://localhost:8080/"
    },
    "executionInfo": {
     "elapsed": 272,
     "status": "ok",
     "timestamp": 1683547958971,
     "user": {
      "displayName": "shaxzod rahmonov",
      "userId": "13467889344189902496"
     },
     "user_tz": -300
    },
    "id": "uBHGW-kvRW5E",
    "outputId": "1ff9284c-043e-4abb-a65c-7c460cdd4e85"
   },
   "outputs": [
    {
     "data": {
      "text/plain": [
       "array([ 0.09397446, -0.99834496, -0.07601105,  0.60547218, -0.47816395,\n",
       "       -0.44569252])"
      ]
     },
     "execution_count": 80,
     "metadata": {},
     "output_type": "execute_result"
    }
   ],
   "source": [
    "np.sin(arr)"
   ]
  },
  {
   "cell_type": "code",
   "execution_count": 82,
   "metadata": {
    "colab": {
     "base_uri": "https://localhost:8080/"
    },
    "executionInfo": {
     "elapsed": 256,
     "status": "ok",
     "timestamp": 1683548010416,
     "user": {
      "displayName": "shaxzod rahmonov",
      "userId": "13467889344189902496"
     },
     "user_tz": -300
    },
    "id": "piljeyiiRywb",
    "outputId": "4568abb3-e1f1-4307-f41c-f6952ede02a3"
   },
   "outputs": [
    {
     "name": "stdout",
     "output_type": "stream",
     "text": [
      "[ 0.09411333 -0.51325516 -0.07608444  0.65035903 -0.49856299 -0.46194772]\n",
      "[ 0. -1. -0.  0. -0. -0.]\n"
     ]
    }
   ],
   "source": [
    "qoldiq, butun = np.modf(arr)\n",
    "print(qoldiq)\n",
    "print(butun)"
   ]
  },
  {
   "cell_type": "code",
   "execution_count": 88,
   "metadata": {
    "colab": {
     "base_uri": "https://localhost:8080/"
    },
    "executionInfo": {
     "elapsed": 442,
     "status": "ok",
     "timestamp": 1683549230794,
     "user": {
      "displayName": "shaxzod rahmonov",
      "userId": "13467889344189902496"
     },
     "user_tz": -300
    },
    "id": "0Q7mxExAR6FE",
    "outputId": "797562d6-9f29-4ada-c0c9-beaeada9b4e7"
   },
   "outputs": [
    {
     "data": {
      "text/plain": [
       "array([[-0.48594039,  2.42439131, -0.4435109 ],\n",
       "       [-0.36426382, -0.80809648,  1.16854288],\n",
       "       [-1.79483355,  0.67726416,  0.07249992]])"
      ]
     },
     "execution_count": 88,
     "metadata": {},
     "output_type": "execute_result"
    }
   ],
   "source": [
    "massiv = np.random.randn(3,3).reshape(3,3)\n",
    "massiv"
   ]
  },
  {
   "cell_type": "code",
   "execution_count": 89,
   "metadata": {
    "colab": {
     "base_uri": "https://localhost:8080/"
    },
    "executionInfo": {
     "elapsed": 398,
     "status": "ok",
     "timestamp": 1683549271039,
     "user": {
      "displayName": "shaxzod rahmonov",
      "userId": "13467889344189902496"
     },
     "user_tz": -300
    },
    "id": "yNQW6NvgWbke",
    "outputId": "991f9531-3f01-4a7b-e8ea-6f9c49658d20"
   },
   "outputs": [
    {
     "data": {
      "text/plain": [
       "array([[1, 0, 1],\n",
       "       [1, 1, 0],\n",
       "       [1, 0, 0]])"
      ]
     },
     "execution_count": 89,
     "metadata": {},
     "output_type": "execute_result"
    }
   ],
   "source": [
    "massivs = np.where(massiv>0,0,1)\n",
    "massivs "
   ]
  },
  {
   "cell_type": "code",
   "execution_count": 90,
   "metadata": {
    "colab": {
     "base_uri": "https://localhost:8080/"
    },
    "executionInfo": {
     "elapsed": 287,
     "status": "ok",
     "timestamp": 1683550524932,
     "user": {
      "displayName": "shaxzod rahmonov",
      "userId": "13467889344189902496"
     },
     "user_tz": -300
    },
    "id": "CLaGcXMXWzDj",
    "outputId": "759d640c-57dc-4549-bb02-ad01a069fe7a"
   },
   "outputs": [
    {
     "data": {
      "text/plain": [
       "array([2, 2, 1])"
      ]
     },
     "execution_count": 90,
     "metadata": {},
     "output_type": "execute_result"
    }
   ],
   "source": [
    "massivs.sum(axis=1) #qator yig'indisi"
   ]
  },
  {
   "cell_type": "code",
   "execution_count": 91,
   "metadata": {
    "colab": {
     "base_uri": "https://localhost:8080/"
    },
    "executionInfo": {
     "elapsed": 394,
     "status": "ok",
     "timestamp": 1683550552713,
     "user": {
      "displayName": "shaxzod rahmonov",
      "userId": "13467889344189902496"
     },
     "user_tz": -300
    },
    "id": "zjr-8FJ_blNQ",
    "outputId": "88b50cbe-cabb-4f88-b8e0-177e8a84800b"
   },
   "outputs": [
    {
     "data": {
      "text/plain": [
       "array([3, 1, 1])"
      ]
     },
     "execution_count": 91,
     "metadata": {},
     "output_type": "execute_result"
    }
   ],
   "source": [
    "massivs.sum(axis=0) #ustun yig'indisi"
   ]
  },
  {
   "cell_type": "code",
   "execution_count": 95,
   "metadata": {
    "colab": {
     "base_uri": "https://localhost:8080/"
    },
    "executionInfo": {
     "elapsed": 330,
     "status": "ok",
     "timestamp": 1683550957733,
     "user": {
      "displayName": "shaxzod rahmonov",
      "userId": "13467889344189902496"
     },
     "user_tz": -300
    },
    "id": "7Pgzon-Fbr7H",
    "outputId": "bf939b9a-c8fa-429f-8082-c9bab0bd21f9"
   },
   "outputs": [
    {
     "data": {
      "text/plain": [
       "array([[[ 1.87407989, -0.38027916,  0.51382867],\n",
       "        [ 0.36700714, -0.86723882, -0.90969538],\n",
       "        [ 0.59652061,  1.00160637,  1.20542442]],\n",
       "\n",
       "       [[ 0.2401967 , -0.50527525, -0.68094267],\n",
       "        [ 1.38694253,  0.1562505 , -0.36928151],\n",
       "        [ 0.46534532, -1.29973927,  1.67053899]],\n",
       "\n",
       "       [[ 1.93467403, -1.89550711,  0.12069597],\n",
       "        [-1.31855482,  0.28264839, -0.27877665],\n",
       "        [-2.68431585, -0.49928233, -0.20479183]]])"
      ]
     },
     "execution_count": 95,
     "metadata": {},
     "output_type": "execute_result"
    }
   ],
   "source": [
    "mass = np.random.randn(27).reshape(3, 3, 3)\n",
    "mass"
   ]
  },
  {
   "cell_type": "code",
   "execution_count": 96,
   "metadata": {
    "colab": {
     "base_uri": "https://localhost:8080/"
    },
    "executionInfo": {
     "elapsed": 353,
     "status": "ok",
     "timestamp": 1683550978876,
     "user": {
      "displayName": "shaxzod rahmonov",
      "userId": "13467889344189902496"
     },
     "user_tz": -300
    },
    "id": "T1Iov49Sc5b8",
    "outputId": "f58ddc6e-b007-4564-e1be-f8ff0c492ea2"
   },
   "outputs": [
    {
     "data": {
      "text/plain": [
       "-0.0028859670724028764"
      ]
     },
     "execution_count": 96,
     "metadata": {},
     "output_type": "execute_result"
    }
   ],
   "source": [
    "mass.mean() #barcha elementlarining urtachasi"
   ]
  },
  {
   "cell_type": "code",
   "execution_count": 97,
   "metadata": {
    "colab": {
     "base_uri": "https://localhost:8080/"
    },
    "executionInfo": {
     "elapsed": 283,
     "status": "ok",
     "timestamp": 1683551007396,
     "user": {
      "displayName": "shaxzod rahmonov",
      "userId": "13467889344189902496"
     },
     "user_tz": -300
    },
    "id": "ETNv4u9OdUBg",
    "outputId": "8d1a0839-ccd5-46cd-e52b-50af92368970"
   },
   "outputs": [
    {
     "data": {
      "text/plain": [
       "array([[ 0.94586921, -0.08197054,  0.26985257],\n",
       "       [ 0.69749485, -0.54958801,  0.20677161],\n",
       "       [-0.68939888, -0.70404702, -0.1209575 ]])"
      ]
     },
     "execution_count": 97,
     "metadata": {},
     "output_type": "execute_result"
    }
   ],
   "source": [
    "mass.mean(axis=1) #qatorlar buyicha urtachasi"
   ]
  },
  {
   "cell_type": "code",
   "execution_count": 98,
   "metadata": {
    "colab": {
     "base_uri": "https://localhost:8080/"
    },
    "executionInfo": {
     "elapsed": 6,
     "status": "ok",
     "timestamp": 1683551552831,
     "user": {
      "displayName": "shaxzod rahmonov",
      "userId": "13467889344189902496"
     },
     "user_tz": -300
    },
    "id": "2pVh453bda_6",
    "outputId": "78c2f8fa-23e2-46ef-e91b-47c6fb588ded"
   },
   "outputs": [
    {
     "data": {
      "text/plain": [
       "array([0, 1, 2, 3, 4])"
      ]
     },
     "execution_count": 98,
     "metadata": {},
     "output_type": "execute_result"
    }
   ],
   "source": [
    "a = np.arange(5)\n",
    "a"
   ]
  },
  {
   "cell_type": "code",
   "execution_count": 99,
   "metadata": {
    "colab": {
     "base_uri": "https://localhost:8080/"
    },
    "executionInfo": {
     "elapsed": 299,
     "status": "ok",
     "timestamp": 1683551561838,
     "user": {
      "displayName": "shaxzod rahmonov",
      "userId": "13467889344189902496"
     },
     "user_tz": -300
    },
    "id": "LwWtzzsLfgF3",
    "outputId": "10acf783-3281-4d83-ace6-e43c7b05ec6d"
   },
   "outputs": [
    {
     "data": {
      "text/plain": [
       "array([ 0,  1,  3,  6, 10])"
      ]
     },
     "execution_count": 99,
     "metadata": {},
     "output_type": "execute_result"
    }
   ],
   "source": [
    "a.cumsum()"
   ]
  },
  {
   "cell_type": "code",
   "execution_count": 101,
   "metadata": {
    "colab": {
     "base_uri": "https://localhost:8080/"
    },
    "executionInfo": {
     "elapsed": 10,
     "status": "ok",
     "timestamp": 1683552296390,
     "user": {
      "displayName": "shaxzod rahmonov",
      "userId": "13467889344189902496"
     },
     "user_tz": -300
    },
    "id": "1L5-WS1YfiU4",
    "outputId": "9a48d0aa-3f1a-45e5-9d03-b97a39a92d21"
   },
   "outputs": [
    {
     "data": {
      "text/plain": [
       "array([0, 1, 2, 3, 4])"
      ]
     },
     "execution_count": 101,
     "metadata": {},
     "output_type": "execute_result"
    }
   ],
   "source": [
    "a.sort()\n",
    "a"
   ]
  },
  {
   "cell_type": "code",
   "execution_count": 115,
   "metadata": {
    "colab": {
     "base_uri": "https://localhost:8080/"
    },
    "executionInfo": {
     "elapsed": 427,
     "status": "ok",
     "timestamp": 1683552483454,
     "user": {
      "displayName": "shaxzod rahmonov",
      "userId": "13467889344189902496"
     },
     "user_tz": -300
    },
    "id": "ZMPTSALAiUNE",
    "outputId": "dbf1b1dd-fa47-4abe-93c6-4d42d641a883"
   },
   "outputs": [
    {
     "data": {
      "text/plain": [
       "array([[-0.72048464,  0.53726071, -0.93387657],\n",
       "       [ 0.72966721, -0.04462939,  0.25434103],\n",
       "       [-0.3047388 ,  2.04611861, -1.06395866]])"
      ]
     },
     "execution_count": 115,
     "metadata": {},
     "output_type": "execute_result"
    }
   ],
   "source": [
    "a = np.random.randn(3,3)\n",
    "a"
   ]
  },
  {
   "cell_type": "code",
   "execution_count": 116,
   "metadata": {
    "colab": {
     "base_uri": "https://localhost:8080/"
    },
    "executionInfo": {
     "elapsed": 378,
     "status": "ok",
     "timestamp": 1683552486320,
     "user": {
      "displayName": "shaxzod rahmonov",
      "userId": "13467889344189902496"
     },
     "user_tz": -300
    },
    "id": "YuL1yPlUids9",
    "outputId": "a4465346-1c47-4d75-dd57-ff4cc78a657c"
   },
   "outputs": [
    {
     "data": {
      "text/plain": [
       "array([[-0.93387657, -0.72048464,  0.53726071],\n",
       "       [-0.04462939,  0.25434103,  0.72966721],\n",
       "       [-1.06395866, -0.3047388 ,  2.04611861]])"
      ]
     },
     "execution_count": 116,
     "metadata": {},
     "output_type": "execute_result"
    }
   ],
   "source": [
    "a.sort()\n",
    "a"
   ]
  },
  {
   "cell_type": "code",
   "execution_count": 117,
   "metadata": {
    "colab": {
     "base_uri": "https://localhost:8080/"
    },
    "executionInfo": {
     "elapsed": 287,
     "status": "ok",
     "timestamp": 1683552525317,
     "user": {
      "displayName": "shaxzod rahmonov",
      "userId": "13467889344189902496"
     },
     "user_tz": -300
    },
    "id": "nV9qVxmUij28",
    "outputId": "42ebb7d6-b6d8-46aa-f7c7-ff02e3f72009"
   },
   "outputs": [
    {
     "data": {
      "text/plain": [
       "array([[-0.93387657, -0.72048464,  0.53726071],\n",
       "       [-0.04462939,  0.25434103,  0.72966721],\n",
       "       [-1.06395866, -0.3047388 ,  2.04611861]])"
      ]
     },
     "execution_count": 117,
     "metadata": {},
     "output_type": "execute_result"
    }
   ],
   "source": [
    "a.sort(axis=1) #qator buyicha saralaydi\n",
    "a"
   ]
  },
  {
   "cell_type": "code",
   "execution_count": 119,
   "metadata": {
    "colab": {
     "base_uri": "https://localhost:8080/"
    },
    "executionInfo": {
     "elapsed": 488,
     "status": "ok",
     "timestamp": 1683553156075,
     "user": {
      "displayName": "shaxzod rahmonov",
      "userId": "13467889344189902496"
     },
     "user_tz": -300
    },
    "id": "GBqD6zZ6is5m",
    "outputId": "bd9fd10f-de31-4bdb-b511-c0258cabc068"
   },
   "outputs": [
    {
     "data": {
      "text/plain": [
       "array(['Shaxzod', 'Ali', 'Nurali', 'Shaxzod', 'Olmos', 'Shaxzod'],\n",
       "      dtype='<U7')"
      ]
     },
     "execution_count": 119,
     "metadata": {},
     "output_type": "execute_result"
    }
   ],
   "source": [
    "ismlar = np.array(['Shaxzod','Ali','Nurali','Shaxzod','Olmos','Shaxzod'])\n",
    "ismlar"
   ]
  },
  {
   "cell_type": "code",
   "execution_count": 120,
   "metadata": {
    "colab": {
     "base_uri": "https://localhost:8080/"
    },
    "executionInfo": {
     "elapsed": 292,
     "status": "ok",
     "timestamp": 1683553177153,
     "user": {
      "displayName": "shaxzod rahmonov",
      "userId": "13467889344189902496"
     },
     "user_tz": -300
    },
    "id": "OQzTtPCvlWJ1",
    "outputId": "d571f1f0-d04e-470a-f846-de50f5b4c1e5"
   },
   "outputs": [
    {
     "data": {
      "text/plain": [
       "array(['Ali', 'Nurali', 'Olmos', 'Shaxzod'], dtype='<U7')"
      ]
     },
     "execution_count": 120,
     "metadata": {},
     "output_type": "execute_result"
    }
   ],
   "source": [
    "np.unique(ismlar)"
   ]
  },
  {
   "cell_type": "code",
   "execution_count": 122,
   "metadata": {
    "colab": {
     "base_uri": "https://localhost:8080/"
    },
    "executionInfo": {
     "elapsed": 360,
     "status": "ok",
     "timestamp": 1683553403625,
     "user": {
      "displayName": "shaxzod rahmonov",
      "userId": "13467889344189902496"
     },
     "user_tz": -300
    },
    "id": "YGOseQ2Plsog",
    "outputId": "52507cab-9460-45fa-e1ed-a9df4835fc46"
   },
   "outputs": [
    {
     "data": {
      "text/plain": [
       "array(['Durbek'], dtype='<U6')"
      ]
     },
     "execution_count": 122,
     "metadata": {},
     "output_type": "execute_result"
    }
   ],
   "source": [
    "ismlar1 = np.array(['Ali','Olmos','Durbek'])\n",
    "np.in1d(ismlar,ismlar1)\n",
    "np.setdiff1d(ismlar1,ismlar)"
   ]
  },
  {
   "cell_type": "code",
   "execution_count": 123,
   "metadata": {
    "executionInfo": {
     "elapsed": 260,
     "status": "ok",
     "timestamp": 1683554277073,
     "user": {
      "displayName": "shaxzod rahmonov",
      "userId": "13467889344189902496"
     },
     "user_tz": -300
    },
    "id": "yQCnOcl6mHi5"
   },
   "outputs": [],
   "source": [
    "np.save('data',ismlar)"
   ]
  },
  {
   "cell_type": "code",
   "execution_count": 124,
   "metadata": {
    "colab": {
     "base_uri": "https://localhost:8080/"
    },
    "executionInfo": {
     "elapsed": 373,
     "status": "ok",
     "timestamp": 1683554321993,
     "user": {
      "displayName": "shaxzod rahmonov",
      "userId": "13467889344189902496"
     },
     "user_tz": -300
    },
    "id": "1HYbaO4Hp5Pr",
    "outputId": "17b44f31-f13e-42f7-b0f5-fd7bae3fa44b"
   },
   "outputs": [
    {
     "data": {
      "text/plain": [
       "array(['Shaxzod', 'Ali', 'Nurali', 'Shaxzod', 'Olmos', 'Shaxzod'],\n",
       "      dtype='<U7')"
      ]
     },
     "execution_count": 124,
     "metadata": {},
     "output_type": "execute_result"
    }
   ],
   "source": [
    "ad = np.load('data.npy')\n",
    "ad"
   ]
  },
  {
   "cell_type": "code",
   "execution_count": 129,
   "metadata": {
    "executionInfo": {
     "elapsed": 318,
     "status": "ok",
     "timestamp": 1683554607795,
     "user": {
      "displayName": "shaxzod rahmonov",
      "userId": "13467889344189902496"
     },
     "user_tz": -300
    },
    "id": "UhvP1p43qa88"
   },
   "outputs": [],
   "source": [
    "np.savez('datazzz',a1=ismlar,b1=a)"
   ]
  },
  {
   "cell_type": "code",
   "execution_count": 131,
   "metadata": {
    "colab": {
     "base_uri": "https://localhost:8080/"
    },
    "executionInfo": {
     "elapsed": 308,
     "status": "ok",
     "timestamp": 1683554639845,
     "user": {
      "displayName": "shaxzod rahmonov",
      "userId": "13467889344189902496"
     },
     "user_tz": -300
    },
    "id": "K2nsuKHzqEKK",
    "outputId": "ee0df3f6-5bbc-4e11-857f-206a7e505b85"
   },
   "outputs": [
    {
     "data": {
      "text/plain": [
       "array(['Shaxzod', 'Ali', 'Nurali', 'Shaxzod', 'Olmos', 'Shaxzod'],\n",
       "      dtype='<U7')"
      ]
     },
     "execution_count": 131,
     "metadata": {},
     "output_type": "execute_result"
    }
   ],
   "source": [
    "arre = np.load('datazzz.npz')\n",
    "arre['a1']"
   ]
  },
  {
   "cell_type": "code",
   "execution_count": 142,
   "metadata": {
    "colab": {
     "base_uri": "https://localhost:8080/"
    },
    "executionInfo": {
     "elapsed": 340,
     "status": "ok",
     "timestamp": 1683555093594,
     "user": {
      "displayName": "shaxzod rahmonov",
      "userId": "13467889344189902496"
     },
     "user_tz": -300
    },
    "id": "rIe83FqjrBFn",
    "outputId": "5cb48355-f1a9-4ccd-d571-2fc4abecd8d8"
   },
   "outputs": [
    {
     "name": "stdout",
     "output_type": "stream",
     "text": [
      "[[ 1  2  3  4]\n",
      " [ 5  6  7  8]\n",
      " [ 9 10 11 12]]\n",
      "\n",
      "[[ 2  3  4]\n",
      " [ 5  6  7]\n",
      " [ 8  9 10]\n",
      " [11 12 13]]\n"
     ]
    }
   ],
   "source": [
    "a1 = np.arange(1,13).reshape(3,4)\n",
    "a2 = np.arange(2,14).reshape(4,3)\n",
    "print(a1,end='\\n\\n')\n",
    "print(a2)\n"
   ]
  },
  {
   "cell_type": "code",
   "execution_count": 143,
   "metadata": {
    "colab": {
     "base_uri": "https://localhost:8080/"
    },
    "executionInfo": {
     "elapsed": 375,
     "status": "ok",
     "timestamp": 1683555113441,
     "user": {
      "displayName": "shaxzod rahmonov",
      "userId": "13467889344189902496"
     },
     "user_tz": -300
    },
    "id": "IBMEtlVVsdgj",
    "outputId": "11d89daf-07fb-4eaf-cb90-f5b143a5d549"
   },
   "outputs": [
    {
     "data": {
      "text/plain": [
       "array([[ 80,  90, 100],\n",
       "       [184, 210, 236],\n",
       "       [288, 330, 372]])"
      ]
     },
     "execution_count": 143,
     "metadata": {},
     "output_type": "execute_result"
    }
   ],
   "source": [
    "np.dot(a1,a2)"
   ]
  },
  {
   "cell_type": "code",
   "execution_count": 144,
   "metadata": {
    "colab": {
     "base_uri": "https://localhost:8080/"
    },
    "executionInfo": {
     "elapsed": 556,
     "status": "ok",
     "timestamp": 1683555165372,
     "user": {
      "displayName": "shaxzod rahmonov",
      "userId": "13467889344189902496"
     },
     "user_tz": -300
    },
    "id": "agqp-_oWtFbP",
    "outputId": "9c77cf12-6c80-477d-a034-3a1dea838d46"
   },
   "outputs": [
    {
     "data": {
      "text/plain": [
       "array([[ 53,  62,  71,  80],\n",
       "       [ 98, 116, 134, 152],\n",
       "       [143, 170, 197, 224],\n",
       "       [188, 224, 260, 296]])"
      ]
     },
     "execution_count": 144,
     "metadata": {},
     "output_type": "execute_result"
    }
   ],
   "source": [
    "np.dot(a2,a1)"
   ]
  },
  {
   "cell_type": "code",
   "execution_count": 154,
   "metadata": {
    "colab": {
     "base_uri": "https://localhost:8080/"
    },
    "executionInfo": {
     "elapsed": 346,
     "status": "ok",
     "timestamp": 1683561527356,
     "user": {
      "displayName": "shaxzod rahmonov",
      "userId": "13467889344189902496"
     },
     "user_tz": -300
    },
    "id": "X6ESgFEitSCE",
    "outputId": "1355d9f5-5365-400a-8844-e62ab07ffae6"
   },
   "outputs": [
    {
     "name": "stdout",
     "output_type": "stream",
     "text": [
      "8\n"
     ]
    }
   ],
   "source": [
    "a = np.array([[1,2,6],[3,4,5]])\n",
    "print(a.itemsize)"
   ]
  },
  {
   "cell_type": "code",
   "execution_count": 155,
   "metadata": {
    "colab": {
     "base_uri": "https://localhost:8080/"
    },
    "executionInfo": {
     "elapsed": 283,
     "status": "ok",
     "timestamp": 1683561636566,
     "user": {
      "displayName": "shaxzod rahmonov",
      "userId": "13467889344189902496"
     },
     "user_tz": -300
    },
    "id": "Zy56oDDLEc76",
    "outputId": "f7b7be3a-21e7-4998-84b2-11613de4bdd1"
   },
   "outputs": [
    {
     "data": {
      "text/plain": [
       "array([2, 3, 4])"
      ]
     },
     "execution_count": 155,
     "metadata": {},
     "output_type": "execute_result"
    }
   ],
   "source": [
    "a = np.array([1,2,3])\n",
    "a+1"
   ]
  },
  {
   "cell_type": "code",
   "execution_count": 163,
   "metadata": {
    "colab": {
     "base_uri": "https://localhost:8080/"
    },
    "executionInfo": {
     "elapsed": 399,
     "status": "ok",
     "timestamp": 1683564317713,
     "user": {
      "displayName": "shaxzod rahmonov",
      "userId": "13467889344189902496"
     },
     "user_tz": -300
    },
    "id": "Z9slA90NPzT2",
    "outputId": "e7470664-0542-431f-9f3a-906b2a5cfd83"
   },
   "outputs": [
    {
     "data": {
      "text/plain": [
       "<function numpy.info(object=None, maxwidth=76, output=<ipykernel.iostream.OutStream object at 0x7f52aad1d9f0>, toplevel='numpy')>"
      ]
     },
     "execution_count": 163,
     "metadata": {},
     "output_type": "execute_result"
    }
   ],
   "source": [
    "np.info"
   ]
  },
  {
   "cell_type": "code",
   "execution_count": 164,
   "metadata": {
    "colab": {
     "base_uri": "https://localhost:8080/"
    },
    "executionInfo": {
     "elapsed": 325,
     "status": "ok",
     "timestamp": 1683564389636,
     "user": {
      "displayName": "shaxzod rahmonov",
      "userId": "13467889344189902496"
     },
     "user_tz": -300
    },
    "id": "JmiNkWdUQMJE",
    "outputId": "377acac0-09bc-48d2-9770-949f19dec8ef"
   },
   "outputs": [
    {
     "name": "stdout",
     "output_type": "stream",
     "text": [
      "add(x1, x2, /, out=None, *, where=True, casting='same_kind', order='K', dtype=None, subok=True[, signature, extobj])\n",
      "\n",
      "Add arguments element-wise.\n",
      "\n",
      "Parameters\n",
      "----------\n",
      "x1, x2 : array_like\n",
      "    The arrays to be added.\n",
      "    If ``x1.shape != x2.shape``, they must be broadcastable to a common\n",
      "    shape (which becomes the shape of the output).\n",
      "out : ndarray, None, or tuple of ndarray and None, optional\n",
      "    A location into which the result is stored. If provided, it must have\n",
      "    a shape that the inputs broadcast to. If not provided or None,\n",
      "    a freshly-allocated array is returned. A tuple (possible only as a\n",
      "    keyword argument) must have length equal to the number of outputs.\n",
      "where : array_like, optional\n",
      "    This condition is broadcast over the input. At locations where the\n",
      "    condition is True, the `out` array will be set to the ufunc result.\n",
      "    Elsewhere, the `out` array will retain its original value.\n",
      "    Note that if an uninitialized `out` array is created via the default\n",
      "    ``out=None``, locations within it where the condition is False will\n",
      "    remain uninitialized.\n",
      "**kwargs\n",
      "    For other keyword-only arguments, see the\n",
      "    :ref:`ufunc docs <ufuncs.kwargs>`.\n",
      "\n",
      "Returns\n",
      "-------\n",
      "add : ndarray or scalar\n",
      "    The sum of `x1` and `x2`, element-wise.\n",
      "    This is a scalar if both `x1` and `x2` are scalars.\n",
      "\n",
      "Notes\n",
      "-----\n",
      "Equivalent to `x1` + `x2` in terms of array broadcasting.\n",
      "\n",
      "Examples\n",
      "--------\n",
      ">>> np.add(1.0, 4.0)\n",
      "5.0\n",
      ">>> x1 = np.arange(9.0).reshape((3, 3))\n",
      ">>> x2 = np.arange(3.0)\n",
      ">>> np.add(x1, x2)\n",
      "array([[  0.,   2.,   4.],\n",
      "       [  3.,   5.,   7.],\n",
      "       [  6.,   8.,  10.]])\n",
      "\n",
      "The ``+`` operator can be used as a shorthand for ``np.add`` on ndarrays.\n",
      "\n",
      ">>> x1 = np.arange(9.0).reshape((3, 3))\n",
      ">>> x2 = np.arange(3.0)\n",
      ">>> x1 + x2\n",
      "array([[ 0.,  2.,  4.],\n",
      "       [ 3.,  5.,  7.],\n",
      "       [ 6.,  8., 10.]])\n"
     ]
    }
   ],
   "source": [
    "np.info(np.add)"
   ]
  },
  {
   "cell_type": "code",
   "execution_count": 165,
   "metadata": {
    "colab": {
     "base_uri": "https://localhost:8080/"
    },
    "executionInfo": {
     "elapsed": 343,
     "status": "ok",
     "timestamp": 1683567953085,
     "user": {
      "displayName": "shaxzod rahmonov",
      "userId": "13467889344189902496"
     },
     "user_tz": -300
    },
    "id": "VuPp0-JGQeG7",
    "outputId": "958417af-b2d1-4042-86fc-eb3d960cac63"
   },
   "outputs": [
    {
     "name": "stdout",
     "output_type": "stream",
     "text": [
      "Massivlar tartibi:  False\n"
     ]
    }
   ],
   "source": [
    "a = np.array([1, 2, 3])\n",
    "b = np.array([2, 3, 4])\n",
    "\n",
    "# Massivlar tartibini solishtirish\n",
    "print(\"Massivlar tartibi: \", np.array_equal(a, b))"
   ]
  },
  {
   "cell_type": "code",
   "execution_count": null,
   "metadata": {
    "id": "ifuRp3xjeD_P"
   },
   "outputs": [],
   "source": []
  }
 ],
 "metadata": {
  "colab": {
   "authorship_tag": "ABX9TyMWa2uLa1yQ+1IKq7jSMDaP",
   "provenance": []
  },
  "kernelspec": {
   "display_name": "Python 3 (ipykernel)",
   "language": "python",
   "name": "python3"
  },
  "language_info": {
   "codemirror_mode": {
    "name": "ipython",
    "version": 3
   },
   "file_extension": ".py",
   "mimetype": "text/x-python",
   "name": "python",
   "nbconvert_exporter": "python",
   "pygments_lexer": "ipython3",
   "version": "3.10.8"
  }
 },
 "nbformat": 4,
 "nbformat_minor": 1
}
