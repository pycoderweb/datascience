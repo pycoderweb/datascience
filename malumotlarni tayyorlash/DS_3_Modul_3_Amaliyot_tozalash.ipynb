{
 "cells": [
  {
   "cell_type": "markdown",
   "metadata": {
    "id": "poH5phdmhSLa"
   },
   "source": [
    "# ![Imgur](https://i.imgur.com/5pXzCIu.png)\n",
    "\n",
    "# **DATA SCIENCE VA SUN'IY INTELLEKT PRAKTIKUM**\n",
    "\n",
    "## 3.2 Ma'lumotlarni tayyorlash\n",
    "\n",
    "# **AMALIYOT**\n",
    "## Ma'lumotlarga ishlov berish\n",
    "\n",
    "\n",
    "\n"
   ]
  },
  {
   "cell_type": "code",
   "execution_count": null,
   "metadata": {
    "id": "wX08M2KIMfHY"
   },
   "outputs": [],
   "source": [
    "import pandas as pd\n",
    "import numpy as np"
   ]
  },
  {
   "cell_type": "code",
   "execution_count": null,
   "metadata": {
    "colab": {
     "base_uri": "https://localhost:8080/",
     "height": 410
    },
    "id": "E-eS1Sx-MiTH",
    "outputId": "5f329450-292d-424b-f89c-f34870e88439"
   },
   "outputs": [],
   "source": [
    "df = pd.read_csv(\"https://raw.githubusercontent.com/mukhammad-irmatov/health_dataset/main/healt_info.csv\")\n",
    "df.head(3)"
   ]
  },
  {
   "cell_type": "markdown",
   "metadata": {
    "id": "tsm8uZ0JMr5m"
   },
   "source": [
    "Bu dataset sug'urta kompaniyasining real ma'lumotlardan tuzilgan. Bu datasetda 480000 qator sug'urta ma'lumotlar tashkil topgan.\n",
    "Quyida datasetning ba'zi ustunlari haqida qisqacha ma'lumot\n",
    "\n",
    "*   Sno = seriya raqami \n",
    "*   AGE = yoshi\n",
    "*   SEX = jinsi (female = ayol, male = erkak)\n",
    "*   CASTE_NAME = kasta nomi (Hindistonda har bir inson ma'lum bir kastaga oid bo'ladi)\n",
    "*   CATEGORY_CODE = kategoriya kodi\n",
    "*   CATEGORY_Name = kategoriya nomi\n",
    "*   SURGERY_CODE = operatsiya kodi\n",
    "*   Mandal_Name = mandal nomlanishi ya'ni familiyasi desak ham bo'ladi\n",
    "*   Mortality Y/N = vafot etgan yoki vafot etmaganligi\n",
    "*   MORTALITY_DATE = qachon vafot etganligi\n",
    "\n",
    "\n",
    "\n"
   ]
  },
  {
   "cell_type": "markdown",
   "metadata": {
    "id": "FNLOb9yhxI0b"
   },
   "source": [
    "### **1-mashq**. Datasetdagi barcha takrorlangan qatorlar sonini toping"
   ]
  },
  {
   "cell_type": "code",
   "execution_count": null,
   "metadata": {
    "colab": {
     "base_uri": "https://localhost:8080/"
    },
    "id": "o64K3q-UBNAm",
    "outputId": "a8fbcc87-90bf-425a-9e67-1d9175df0abe"
   },
   "outputs": [],
   "source": [
    "# Javobni shuyerga yozing\n",
    "len(df[df.duplicated()])\n",
    "df.shape()"
   ]
  },
  {
   "cell_type": "code",
   "execution_count": null,
   "metadata": {
    "cellView": "form",
    "id": "2aiD_0BiOrsy"
   },
   "outputs": [],
   "source": [
    "#@title **To'g'ri javob**\n",
    "sum(df.duplicated())"
   ]
  },
  {
   "cell_type": "markdown",
   "metadata": {
    "id": "9GJiUd445Kr1"
   },
   "source": [
    "#### **2-mashq**. Datasetdagi quyidagi ustunlar o'chirib yuborilsin:<br>\n",
    "*   Sno\n",
    "*   CATEGORY_CODE\n",
    "*   SURGERY_CODE\n",
    "*   MANDAL_NAME\n",
    "*   DISTRICT_NAME\n",
    "*   HOSP_DISTRICT\n",
    "<BR>\n"
   ]
  },
  {
   "cell_type": "code",
   "execution_count": 53,
   "metadata": {
    "colab": {
     "base_uri": "https://localhost:8080/",
     "height": 548
    },
    "id": "W8LCqh3466n-",
    "outputId": "af7b10f5-ba22-49c3-81ae-86cf3b18de89"
   },
   "outputs": [
    {
     "data": {
      "text/html": [
       "\n",
       "  <div id=\"df-249bcf5c-9b65-43ed-af6c-886e587a2936\">\n",
       "    <div class=\"colab-df-container\">\n",
       "      <div>\n",
       "<style scoped>\n",
       "    .dataframe tbody tr th:only-of-type {\n",
       "        vertical-align: middle;\n",
       "    }\n",
       "\n",
       "    .dataframe tbody tr th {\n",
       "        vertical-align: top;\n",
       "    }\n",
       "\n",
       "    .dataframe thead th {\n",
       "        text-align: right;\n",
       "    }\n",
       "</style>\n",
       "<table border=\"1\" class=\"dataframe\">\n",
       "  <thead>\n",
       "    <tr style=\"text-align: right;\">\n",
       "      <th></th>\n",
       "      <th>AGE</th>\n",
       "      <th>SEX</th>\n",
       "      <th>CASTE_NAME</th>\n",
       "      <th>CATEGORY_NAME</th>\n",
       "      <th>SURGERY</th>\n",
       "      <th>VILLAGE</th>\n",
       "      <th>PREAUTH_DATE</th>\n",
       "      <th>PREAUTH_AMT</th>\n",
       "      <th>CLAIM_DATE</th>\n",
       "      <th>CLAIM_AMOUNT</th>\n",
       "      <th>HOSP_NAME</th>\n",
       "      <th>HOSP_TYPE</th>\n",
       "      <th>SURGERY_DATE</th>\n",
       "      <th>DISCHARGE_DATE</th>\n",
       "      <th>Mortality Y / N</th>\n",
       "      <th>MORTALITY_DATE</th>\n",
       "      <th>SRC_REGISTRATION</th>\n",
       "    </tr>\n",
       "  </thead>\n",
       "  <tbody>\n",
       "    <tr>\n",
       "      <th>0</th>\n",
       "      <td>56</td>\n",
       "      <td>Female</td>\n",
       "      <td>BC</td>\n",
       "      <td>NEPHROLOGY</td>\n",
       "      <td>Maintenance Hemodialysis For Crf</td>\n",
       "      <td>Lolugu</td>\n",
       "      <td>03-08-2013 20:38</td>\n",
       "      <td>12500</td>\n",
       "      <td>22-03-2017 20:25</td>\n",
       "      <td>11000</td>\n",
       "      <td>Rims Govt. General Hospital, Srikakulam</td>\n",
       "      <td>G</td>\n",
       "      <td>06-08-2013 00:00</td>\n",
       "      <td>07-09-2013 00:00</td>\n",
       "      <td>NO</td>\n",
       "      <td>NaN</td>\n",
       "      <td>D</td>\n",
       "    </tr>\n",
       "    <tr>\n",
       "      <th>1</th>\n",
       "      <td>37</td>\n",
       "      <td>Male</td>\n",
       "      <td>BC</td>\n",
       "      <td>NEPHROLOGY</td>\n",
       "      <td>Maintenance Hemodialysis For Crf</td>\n",
       "      <td>Borivanka</td>\n",
       "      <td>06-08-2013 07:26</td>\n",
       "      <td>12500</td>\n",
       "      <td>22-03-2017 20:25</td>\n",
       "      <td>11000</td>\n",
       "      <td>Rims Govt. General Hospital, Srikakulam</td>\n",
       "      <td>G</td>\n",
       "      <td>08-08-2013 00:00</td>\n",
       "      <td>09-09-2013 00:00</td>\n",
       "      <td>NO</td>\n",
       "      <td>NaN</td>\n",
       "      <td>D</td>\n",
       "    </tr>\n",
       "    <tr>\n",
       "      <th>2</th>\n",
       "      <td>50</td>\n",
       "      <td>Male</td>\n",
       "      <td>BC</td>\n",
       "      <td>NEPHROLOGY</td>\n",
       "      <td>Maintenance Hemodialysis For Crf</td>\n",
       "      <td>Kapasakuddi</td>\n",
       "      <td>09-08-2013 18:30</td>\n",
       "      <td>12500</td>\n",
       "      <td>22-03-2017 20:25</td>\n",
       "      <td>11500</td>\n",
       "      <td>Rims Govt. General Hospital, Srikakulam</td>\n",
       "      <td>G</td>\n",
       "      <td>15-08-2013 00:00</td>\n",
       "      <td>18-10-2013 00:00</td>\n",
       "      <td>NO</td>\n",
       "      <td>NaN</td>\n",
       "      <td>D</td>\n",
       "    </tr>\n",
       "    <tr>\n",
       "      <th>3</th>\n",
       "      <td>45</td>\n",
       "      <td>Male</td>\n",
       "      <td>BC</td>\n",
       "      <td>NEPHROLOGY</td>\n",
       "      <td>Maintenance Hemodialysis For Crf</td>\n",
       "      <td>Telikipenta</td>\n",
       "      <td>24-08-2013 19:37</td>\n",
       "      <td>12500</td>\n",
       "      <td>22-03-2017 20:25</td>\n",
       "      <td>11000</td>\n",
       "      <td>Rims Govt. General Hospital, Srikakulam</td>\n",
       "      <td>G</td>\n",
       "      <td>24-08-2013 00:00</td>\n",
       "      <td>27-09-2013 00:00</td>\n",
       "      <td>NO</td>\n",
       "      <td>NaN</td>\n",
       "      <td>D</td>\n",
       "    </tr>\n",
       "    <tr>\n",
       "      <th>4</th>\n",
       "      <td>54</td>\n",
       "      <td>Male</td>\n",
       "      <td>BC</td>\n",
       "      <td>NEPHROLOGY</td>\n",
       "      <td>Maintenance Hemodialysis For Crf</td>\n",
       "      <td>Thandemvalasa</td>\n",
       "      <td>28-08-2013 17:03</td>\n",
       "      <td>12500</td>\n",
       "      <td>22-03-2017 20:25</td>\n",
       "      <td>11000</td>\n",
       "      <td>Rims Govt. General Hospital, Srikakulam</td>\n",
       "      <td>G</td>\n",
       "      <td>31-08-2013 00:00</td>\n",
       "      <td>02-10-2013 00:00</td>\n",
       "      <td>NO</td>\n",
       "      <td>NaN</td>\n",
       "      <td>D</td>\n",
       "    </tr>\n",
       "  </tbody>\n",
       "</table>\n",
       "</div>\n",
       "      <button class=\"colab-df-convert\" onclick=\"convertToInteractive('df-249bcf5c-9b65-43ed-af6c-886e587a2936')\"\n",
       "              title=\"Convert this dataframe to an interactive table.\"\n",
       "              style=\"display:none;\">\n",
       "        \n",
       "  <svg xmlns=\"http://www.w3.org/2000/svg\" height=\"24px\"viewBox=\"0 0 24 24\"\n",
       "       width=\"24px\">\n",
       "    <path d=\"M0 0h24v24H0V0z\" fill=\"none\"/>\n",
       "    <path d=\"M18.56 5.44l.94 2.06.94-2.06 2.06-.94-2.06-.94-.94-2.06-.94 2.06-2.06.94zm-11 1L8.5 8.5l.94-2.06 2.06-.94-2.06-.94L8.5 2.5l-.94 2.06-2.06.94zm10 10l.94 2.06.94-2.06 2.06-.94-2.06-.94-.94-2.06-.94 2.06-2.06.94z\"/><path d=\"M17.41 7.96l-1.37-1.37c-.4-.4-.92-.59-1.43-.59-.52 0-1.04.2-1.43.59L10.3 9.45l-7.72 7.72c-.78.78-.78 2.05 0 2.83L4 21.41c.39.39.9.59 1.41.59.51 0 1.02-.2 1.41-.59l7.78-7.78 2.81-2.81c.8-.78.8-2.07 0-2.86zM5.41 20L4 18.59l7.72-7.72 1.47 1.35L5.41 20z\"/>\n",
       "  </svg>\n",
       "      </button>\n",
       "      \n",
       "  <style>\n",
       "    .colab-df-container {\n",
       "      display:flex;\n",
       "      flex-wrap:wrap;\n",
       "      gap: 12px;\n",
       "    }\n",
       "\n",
       "    .colab-df-convert {\n",
       "      background-color: #E8F0FE;\n",
       "      border: none;\n",
       "      border-radius: 50%;\n",
       "      cursor: pointer;\n",
       "      display: none;\n",
       "      fill: #1967D2;\n",
       "      height: 32px;\n",
       "      padding: 0 0 0 0;\n",
       "      width: 32px;\n",
       "    }\n",
       "\n",
       "    .colab-df-convert:hover {\n",
       "      background-color: #E2EBFA;\n",
       "      box-shadow: 0px 1px 2px rgba(60, 64, 67, 0.3), 0px 1px 3px 1px rgba(60, 64, 67, 0.15);\n",
       "      fill: #174EA6;\n",
       "    }\n",
       "\n",
       "    [theme=dark] .colab-df-convert {\n",
       "      background-color: #3B4455;\n",
       "      fill: #D2E3FC;\n",
       "    }\n",
       "\n",
       "    [theme=dark] .colab-df-convert:hover {\n",
       "      background-color: #434B5C;\n",
       "      box-shadow: 0px 1px 3px 1px rgba(0, 0, 0, 0.15);\n",
       "      filter: drop-shadow(0px 1px 2px rgba(0, 0, 0, 0.3));\n",
       "      fill: #FFFFFF;\n",
       "    }\n",
       "  </style>\n",
       "\n",
       "      <script>\n",
       "        const buttonEl =\n",
       "          document.querySelector('#df-249bcf5c-9b65-43ed-af6c-886e587a2936 button.colab-df-convert');\n",
       "        buttonEl.style.display =\n",
       "          google.colab.kernel.accessAllowed ? 'block' : 'none';\n",
       "\n",
       "        async function convertToInteractive(key) {\n",
       "          const element = document.querySelector('#df-249bcf5c-9b65-43ed-af6c-886e587a2936');\n",
       "          const dataTable =\n",
       "            await google.colab.kernel.invokeFunction('convertToInteractive',\n",
       "                                                     [key], {});\n",
       "          if (!dataTable) return;\n",
       "\n",
       "          const docLinkHtml = 'Like what you see? Visit the ' +\n",
       "            '<a target=\"_blank\" href=https://colab.research.google.com/notebooks/data_table.ipynb>data table notebook</a>'\n",
       "            + ' to learn more about interactive tables.';\n",
       "          element.innerHTML = '';\n",
       "          dataTable['output_type'] = 'display_data';\n",
       "          await google.colab.output.renderOutput(dataTable, element);\n",
       "          const docLink = document.createElement('div');\n",
       "          docLink.innerHTML = docLinkHtml;\n",
       "          element.appendChild(docLink);\n",
       "        }\n",
       "      </script>\n",
       "    </div>\n",
       "  </div>\n",
       "  "
      ],
      "text/plain": [
       "   AGE     SEX CASTE_NAME CATEGORY_NAME                           SURGERY  \\\n",
       "0   56  Female         BC    NEPHROLOGY  Maintenance Hemodialysis For Crf   \n",
       "1   37    Male         BC    NEPHROLOGY  Maintenance Hemodialysis For Crf   \n",
       "2   50    Male         BC    NEPHROLOGY  Maintenance Hemodialysis For Crf   \n",
       "3   45    Male         BC    NEPHROLOGY  Maintenance Hemodialysis For Crf   \n",
       "4   54    Male         BC    NEPHROLOGY  Maintenance Hemodialysis For Crf   \n",
       "\n",
       "         VILLAGE      PREAUTH_DATE  PREAUTH_AMT        CLAIM_DATE  \\\n",
       "0         Lolugu  03-08-2013 20:38        12500  22-03-2017 20:25   \n",
       "1      Borivanka  06-08-2013 07:26        12500  22-03-2017 20:25   \n",
       "2    Kapasakuddi  09-08-2013 18:30        12500  22-03-2017 20:25   \n",
       "3    Telikipenta  24-08-2013 19:37        12500  22-03-2017 20:25   \n",
       "4  Thandemvalasa  28-08-2013 17:03        12500  22-03-2017 20:25   \n",
       "\n",
       "   CLAIM_AMOUNT                                HOSP_NAME HOSP_TYPE  \\\n",
       "0         11000  Rims Govt. General Hospital, Srikakulam         G   \n",
       "1         11000  Rims Govt. General Hospital, Srikakulam         G   \n",
       "2         11500  Rims Govt. General Hospital, Srikakulam         G   \n",
       "3         11000  Rims Govt. General Hospital, Srikakulam         G   \n",
       "4         11000  Rims Govt. General Hospital, Srikakulam         G   \n",
       "\n",
       "       SURGERY_DATE    DISCHARGE_DATE Mortality Y / N MORTALITY_DATE  \\\n",
       "0  06-08-2013 00:00  07-09-2013 00:00              NO            NaN   \n",
       "1  08-08-2013 00:00  09-09-2013 00:00              NO            NaN   \n",
       "2  15-08-2013 00:00  18-10-2013 00:00              NO            NaN   \n",
       "3  24-08-2013 00:00  27-09-2013 00:00              NO            NaN   \n",
       "4  31-08-2013 00:00  02-10-2013 00:00              NO            NaN   \n",
       "\n",
       "  SRC_REGISTRATION  \n",
       "0                D  \n",
       "1                D  \n",
       "2                D  \n",
       "3                D  \n",
       "4                D  "
      ]
     },
     "execution_count": 53,
     "metadata": {},
     "output_type": "execute_result"
    }
   ],
   "source": [
    "# Javobni shuyerga yozing\n",
    "df.drop(columns=['Sno','CATEGORY_CODE','SURGERY_CODE','MANDAL_NAME','DISTRICT_NAME','HOSP_DISTRICT']).head()"
   ]
  },
  {
   "cell_type": "code",
   "execution_count": null,
   "metadata": {
    "cellView": "form",
    "id": "tQmeaOg19flk"
   },
   "outputs": [],
   "source": [
    "#@title **To'g'ri javob**\n",
    "df.drop(['Sno','CATEGORY_CODE','SURGERY_CODE','MANDAL_NAME','DISTRICT_NAME','HOSP_DISTRICT'],axis='columns',inplace=True)\n",
    "df"
   ]
  },
  {
   "cell_type": "markdown",
   "metadata": {
    "id": "wVuuU-XZO-0Y"
   },
   "source": [
    "#### **3-mashq**. Datasetdagi sex(jinsi) nomli qatordagi qiymatlarni unique funksiyasi orqali tekshiring.\n",
    "\n",
    "\n"
   ]
  },
  {
   "cell_type": "code",
   "execution_count": 15,
   "metadata": {
    "colab": {
     "base_uri": "https://localhost:8080/"
    },
    "id": "i9e_7Icu0Xms",
    "outputId": "53be35aa-a193-43b6-d775-c6495df6c95e"
   },
   "outputs": [
    {
     "data": {
      "text/plain": [
       "array(['Female', 'Male', 'Male(Child)', 'Female(Child)', 'FEMALE'],\n",
       "      dtype=object)"
      ]
     },
     "execution_count": 15,
     "metadata": {},
     "output_type": "execute_result"
    }
   ],
   "source": [
    "# Javobni shuyerga yozing\n",
    "df.SEX.unique()"
   ]
  },
  {
   "cell_type": "code",
   "execution_count": null,
   "metadata": {
    "cellView": "form",
    "id": "Wa7bvsLs05wT"
   },
   "outputs": [],
   "source": [
    "#@title **To'g'ri javob**\n",
    "df[\"SEX\"].unique()\n"
   ]
  },
  {
   "cell_type": "markdown",
   "metadata": {
    "id": "nfwZ0uQo1xXm"
   },
   "source": [
    "#### **4-mashq**. Datasetdagi sex(jinsi) nomli qatordagi qiymatlarni **Erkak** va **Ayol** ga o'zgartiring:\n",
    "O'zgartirish quyidagicha bo'lsin:\n",
    "\n",
    "\n",
    "*   Male -> Erkak\n",
    "*   Male(child) -> Erkak\n",
    "*   Female - > Ayol\n",
    "*   Female(child) - Ayol\n",
    "*   MALE -> Erkak\n",
    "*   FEMALE -> Ayol\n",
    "\n",
    "\n",
    "\n"
   ]
  },
  {
   "cell_type": "code",
   "execution_count": 54,
   "metadata": {
    "colab": {
     "base_uri": "https://localhost:8080/"
    },
    "id": "54IqaOmz159z",
    "outputId": "d01753f8-ced1-4302-b43b-2c08f68e8550"
   },
   "outputs": [
    {
     "data": {
      "text/plain": [
       "array(['Ayol', 'Erkak'], dtype=object)"
      ]
     },
     "execution_count": 54,
     "metadata": {},
     "output_type": "execute_result"
    }
   ],
   "source": [
    "# Javobni shuyerga yozing\n",
    "df.replace(to_replace='Male(Child)',value='Erkak',inplace=True)\n",
    "df.replace(to_replace='Female(Child)',value='Ayol',inplace=True)\n",
    "df.replace(to_replace='Male',value='Erkak',inplace=True)\n",
    "df.replace(to_replace='Female',value='Ayol',inplace=True)\n",
    "df.replace(to_replace='Female'.upper(),value='Ayol',inplace=True)\n",
    "df.SEX.unique()"
   ]
  },
  {
   "cell_type": "code",
   "execution_count": null,
   "metadata": {
    "cellView": "form",
    "id": "ZM7XuQc31_Z1"
   },
   "outputs": [],
   "source": [
    "#@title **To'g'ri javob**\n",
    "dict = {\"Male\":\"Erkak\",\"Male(child)\":\"Erkak\", \"Female\":\"Ayol\",\"Female(child)\":\"Ayol\",\"MALE\":\"Erkak\",\"FEMALE\":\"Ayol\"}\n",
    "df[\"SEX\"] = df[\"SEX\"].map(dict)"
   ]
  },
  {
   "cell_type": "markdown",
   "metadata": {
    "id": "t_KWHWqj3D38"
   },
   "source": [
    "#### **5-mashq**. Endi xuddi shu SEX columndagi ma'lumotlarni raqamlarga o'zgartiring: Erkaklarni 1 raqamiga, Ayollarni 0 raqamiga o'zgartiring.\n",
    "*   Erkak -> 1\n",
    "*   Ayol -> 0"
   ]
  },
  {
   "cell_type": "code",
   "execution_count": 55,
   "metadata": {
    "colab": {
     "base_uri": "https://localhost:8080/",
     "height": 956
    },
    "id": "CU3ygcnh3LAd",
    "outputId": "a1fb8c49-a3a4-4aef-980f-3f3e7d307f73"
   },
   "outputs": [
    {
     "data": {
      "text/html": [
       "\n",
       "  <div id=\"df-67da4e6c-715d-4dea-9f8b-e0ffdc6c57de\">\n",
       "    <div class=\"colab-df-container\">\n",
       "      <div>\n",
       "<style scoped>\n",
       "    .dataframe tbody tr th:only-of-type {\n",
       "        vertical-align: middle;\n",
       "    }\n",
       "\n",
       "    .dataframe tbody tr th {\n",
       "        vertical-align: top;\n",
       "    }\n",
       "\n",
       "    .dataframe thead th {\n",
       "        text-align: right;\n",
       "    }\n",
       "</style>\n",
       "<table border=\"1\" class=\"dataframe\">\n",
       "  <thead>\n",
       "    <tr style=\"text-align: right;\">\n",
       "      <th></th>\n",
       "      <th>Sno</th>\n",
       "      <th>AGE</th>\n",
       "      <th>SEX</th>\n",
       "      <th>CASTE_NAME</th>\n",
       "      <th>CATEGORY_CODE</th>\n",
       "      <th>CATEGORY_NAME</th>\n",
       "      <th>SURGERY_CODE</th>\n",
       "      <th>SURGERY</th>\n",
       "      <th>VILLAGE</th>\n",
       "      <th>MANDAL_NAME</th>\n",
       "      <th>...</th>\n",
       "      <th>CLAIM_DATE</th>\n",
       "      <th>CLAIM_AMOUNT</th>\n",
       "      <th>HOSP_NAME</th>\n",
       "      <th>HOSP_TYPE</th>\n",
       "      <th>HOSP_DISTRICT</th>\n",
       "      <th>SURGERY_DATE</th>\n",
       "      <th>DISCHARGE_DATE</th>\n",
       "      <th>Mortality Y / N</th>\n",
       "      <th>MORTALITY_DATE</th>\n",
       "      <th>SRC_REGISTRATION</th>\n",
       "    </tr>\n",
       "  </thead>\n",
       "  <tbody>\n",
       "    <tr>\n",
       "      <th>0</th>\n",
       "      <td>1</td>\n",
       "      <td>56</td>\n",
       "      <td>2</td>\n",
       "      <td>BC</td>\n",
       "      <td>M6</td>\n",
       "      <td>NEPHROLOGY</td>\n",
       "      <td>M6.5</td>\n",
       "      <td>Maintenance Hemodialysis For Crf</td>\n",
       "      <td>Lolugu</td>\n",
       "      <td>Ponduru</td>\n",
       "      <td>...</td>\n",
       "      <td>22-03-2017 20:25</td>\n",
       "      <td>11000</td>\n",
       "      <td>Rims Govt. General Hospital, Srikakulam</td>\n",
       "      <td>G</td>\n",
       "      <td>Srikakulam</td>\n",
       "      <td>06-08-2013 00:00</td>\n",
       "      <td>07-09-2013 00:00</td>\n",
       "      <td>NO</td>\n",
       "      <td>NaN</td>\n",
       "      <td>D</td>\n",
       "    </tr>\n",
       "    <tr>\n",
       "      <th>1</th>\n",
       "      <td>2</td>\n",
       "      <td>37</td>\n",
       "      <td>1</td>\n",
       "      <td>BC</td>\n",
       "      <td>M6</td>\n",
       "      <td>NEPHROLOGY</td>\n",
       "      <td>M6.5</td>\n",
       "      <td>Maintenance Hemodialysis For Crf</td>\n",
       "      <td>Borivanka</td>\n",
       "      <td>Kaviti</td>\n",
       "      <td>...</td>\n",
       "      <td>22-03-2017 20:25</td>\n",
       "      <td>11000</td>\n",
       "      <td>Rims Govt. General Hospital, Srikakulam</td>\n",
       "      <td>G</td>\n",
       "      <td>Srikakulam</td>\n",
       "      <td>08-08-2013 00:00</td>\n",
       "      <td>09-09-2013 00:00</td>\n",
       "      <td>NO</td>\n",
       "      <td>NaN</td>\n",
       "      <td>D</td>\n",
       "    </tr>\n",
       "    <tr>\n",
       "      <th>2</th>\n",
       "      <td>3</td>\n",
       "      <td>50</td>\n",
       "      <td>1</td>\n",
       "      <td>BC</td>\n",
       "      <td>M6</td>\n",
       "      <td>NEPHROLOGY</td>\n",
       "      <td>M6.5</td>\n",
       "      <td>Maintenance Hemodialysis For Crf</td>\n",
       "      <td>Kapasakuddi</td>\n",
       "      <td>Kaviti</td>\n",
       "      <td>...</td>\n",
       "      <td>22-03-2017 20:25</td>\n",
       "      <td>11500</td>\n",
       "      <td>Rims Govt. General Hospital, Srikakulam</td>\n",
       "      <td>G</td>\n",
       "      <td>Srikakulam</td>\n",
       "      <td>15-08-2013 00:00</td>\n",
       "      <td>18-10-2013 00:00</td>\n",
       "      <td>NO</td>\n",
       "      <td>NaN</td>\n",
       "      <td>D</td>\n",
       "    </tr>\n",
       "    <tr>\n",
       "      <th>3</th>\n",
       "      <td>4</td>\n",
       "      <td>45</td>\n",
       "      <td>1</td>\n",
       "      <td>BC</td>\n",
       "      <td>M6</td>\n",
       "      <td>NEPHROLOGY</td>\n",
       "      <td>M6.5</td>\n",
       "      <td>Maintenance Hemodialysis For Crf</td>\n",
       "      <td>Telikipenta</td>\n",
       "      <td>Sarubujjili</td>\n",
       "      <td>...</td>\n",
       "      <td>22-03-2017 20:25</td>\n",
       "      <td>11000</td>\n",
       "      <td>Rims Govt. General Hospital, Srikakulam</td>\n",
       "      <td>G</td>\n",
       "      <td>Srikakulam</td>\n",
       "      <td>24-08-2013 00:00</td>\n",
       "      <td>27-09-2013 00:00</td>\n",
       "      <td>NO</td>\n",
       "      <td>NaN</td>\n",
       "      <td>D</td>\n",
       "    </tr>\n",
       "    <tr>\n",
       "      <th>4</th>\n",
       "      <td>5</td>\n",
       "      <td>54</td>\n",
       "      <td>1</td>\n",
       "      <td>BC</td>\n",
       "      <td>M6</td>\n",
       "      <td>NEPHROLOGY</td>\n",
       "      <td>M6.5</td>\n",
       "      <td>Maintenance Hemodialysis For Crf</td>\n",
       "      <td>Thandemvalasa</td>\n",
       "      <td>Srikakulam</td>\n",
       "      <td>...</td>\n",
       "      <td>22-03-2017 20:25</td>\n",
       "      <td>11000</td>\n",
       "      <td>Rims Govt. General Hospital, Srikakulam</td>\n",
       "      <td>G</td>\n",
       "      <td>Srikakulam</td>\n",
       "      <td>31-08-2013 00:00</td>\n",
       "      <td>02-10-2013 00:00</td>\n",
       "      <td>NO</td>\n",
       "      <td>NaN</td>\n",
       "      <td>D</td>\n",
       "    </tr>\n",
       "    <tr>\n",
       "      <th>...</th>\n",
       "      <td>...</td>\n",
       "      <td>...</td>\n",
       "      <td>...</td>\n",
       "      <td>...</td>\n",
       "      <td>...</td>\n",
       "      <td>...</td>\n",
       "      <td>...</td>\n",
       "      <td>...</td>\n",
       "      <td>...</td>\n",
       "      <td>...</td>\n",
       "      <td>...</td>\n",
       "      <td>...</td>\n",
       "      <td>...</td>\n",
       "      <td>...</td>\n",
       "      <td>...</td>\n",
       "      <td>...</td>\n",
       "      <td>...</td>\n",
       "      <td>...</td>\n",
       "      <td>...</td>\n",
       "      <td>...</td>\n",
       "      <td>...</td>\n",
       "    </tr>\n",
       "    <tr>\n",
       "      <th>335389</th>\n",
       "      <td>335390</td>\n",
       "      <td>65</td>\n",
       "      <td>1</td>\n",
       "      <td>SC</td>\n",
       "      <td>S3</td>\n",
       "      <td>OPHTHALMOLOGY  SURGERY</td>\n",
       "      <td>SU66</td>\n",
       "      <td>Vitrectomy Plus Silicon Oil Or Gas (14.75)</td>\n",
       "      <td>Chintalapudi</td>\n",
       "      <td>Ponnur</td>\n",
       "      <td>...</td>\n",
       "      <td>04-08-2017 21:23</td>\n",
       "      <td>23320</td>\n",
       "      <td>Sankar Eye Hospital</td>\n",
       "      <td>C</td>\n",
       "      <td>Guntur</td>\n",
       "      <td>09-06-2017 00:00</td>\n",
       "      <td>10-06-2017 00:00</td>\n",
       "      <td>NO</td>\n",
       "      <td>NaN</td>\n",
       "      <td>D</td>\n",
       "    </tr>\n",
       "    <tr>\n",
       "      <th>335390</th>\n",
       "      <td>335391</td>\n",
       "      <td>54</td>\n",
       "      <td>2</td>\n",
       "      <td>OC</td>\n",
       "      <td>S12</td>\n",
       "      <td>MEDICAL ONCOLOGY</td>\n",
       "      <td>S12.1.4</td>\n",
       "      <td>Chemotherapy for Breast Cancer with Paclitaxel</td>\n",
       "      <td>Udayagiri @ Kondayapale</td>\n",
       "      <td>Udayagiri</td>\n",
       "      <td>...</td>\n",
       "      <td>02-08-2017 19:11</td>\n",
       "      <td>7140</td>\n",
       "      <td>BASAVATARAKAM INDO AMERICAN CANCER HOSPITAL an...</td>\n",
       "      <td>C</td>\n",
       "      <td>Hyderabad</td>\n",
       "      <td>06-06-2017 00:00</td>\n",
       "      <td>06-06-2017 00:00</td>\n",
       "      <td>NO</td>\n",
       "      <td>NaN</td>\n",
       "      <td>D</td>\n",
       "    </tr>\n",
       "    <tr>\n",
       "      <th>335391</th>\n",
       "      <td>335392</td>\n",
       "      <td>19</td>\n",
       "      <td>2</td>\n",
       "      <td>SC</td>\n",
       "      <td>S12</td>\n",
       "      <td>MEDICAL ONCOLOGY</td>\n",
       "      <td>S12.28.1</td>\n",
       "      <td>Palliative Chemotherapy for unlisted Regimen</td>\n",
       "      <td>Vinduru</td>\n",
       "      <td>Gudur</td>\n",
       "      <td>...</td>\n",
       "      <td>04-10-2017 19:46</td>\n",
       "      <td>5000</td>\n",
       "      <td>M.N.J.Hospitals</td>\n",
       "      <td>G</td>\n",
       "      <td>Hyderabad</td>\n",
       "      <td>09-06-2017 00:00</td>\n",
       "      <td>10-06-2017 00:00</td>\n",
       "      <td>NO</td>\n",
       "      <td>NaN</td>\n",
       "      <td>D</td>\n",
       "    </tr>\n",
       "    <tr>\n",
       "      <th>335392</th>\n",
       "      <td>335393</td>\n",
       "      <td>50</td>\n",
       "      <td>1</td>\n",
       "      <td>BC</td>\n",
       "      <td>S9</td>\n",
       "      <td>GENITO URINARY SURGERIES</td>\n",
       "      <td>S9.3.4</td>\n",
       "      <td>ursl</td>\n",
       "      <td>Duppituru</td>\n",
       "      <td>Atchutapuram</td>\n",
       "      <td>...</td>\n",
       "      <td>04-08-2017 20:59</td>\n",
       "      <td>25000</td>\n",
       "      <td>GAJUWAKA HOSPITALS PVT LTD RK HOSPITAL</td>\n",
       "      <td>C</td>\n",
       "      <td>Vishakhapatnam</td>\n",
       "      <td>06-06-2017 00:00</td>\n",
       "      <td>10-06-2017 00:00</td>\n",
       "      <td>NO</td>\n",
       "      <td>NaN</td>\n",
       "      <td>D</td>\n",
       "    </tr>\n",
       "    <tr>\n",
       "      <th>335393</th>\n",
       "      <td>335394</td>\n",
       "      <td>46</td>\n",
       "      <td>2</td>\n",
       "      <td>SC</td>\n",
       "      <td>S12</td>\n",
       "      <td>MEDICAL ONCOLOGY</td>\n",
       "      <td>S12.2.1</td>\n",
       "      <td>Chemotherapy for Cervical Cancer with Weekly C...</td>\n",
       "      <td>Ananthavaram</td>\n",
       "      <td>Mummidivaram</td>\n",
       "      <td>...</td>\n",
       "      <td>09-08-2017 19:43</td>\n",
       "      <td>2040</td>\n",
       "      <td>SURYA GLOBAL MULTI SPECIALITY HOSPITALS AND CA...</td>\n",
       "      <td>C</td>\n",
       "      <td>East Godavari</td>\n",
       "      <td>07-06-2017 00:00</td>\n",
       "      <td>07-06-2017 00:00</td>\n",
       "      <td>NO</td>\n",
       "      <td>NaN</td>\n",
       "      <td>MC</td>\n",
       "    </tr>\n",
       "  </tbody>\n",
       "</table>\n",
       "<p>335394 rows × 23 columns</p>\n",
       "</div>\n",
       "      <button class=\"colab-df-convert\" onclick=\"convertToInteractive('df-67da4e6c-715d-4dea-9f8b-e0ffdc6c57de')\"\n",
       "              title=\"Convert this dataframe to an interactive table.\"\n",
       "              style=\"display:none;\">\n",
       "        \n",
       "  <svg xmlns=\"http://www.w3.org/2000/svg\" height=\"24px\"viewBox=\"0 0 24 24\"\n",
       "       width=\"24px\">\n",
       "    <path d=\"M0 0h24v24H0V0z\" fill=\"none\"/>\n",
       "    <path d=\"M18.56 5.44l.94 2.06.94-2.06 2.06-.94-2.06-.94-.94-2.06-.94 2.06-2.06.94zm-11 1L8.5 8.5l.94-2.06 2.06-.94-2.06-.94L8.5 2.5l-.94 2.06-2.06.94zm10 10l.94 2.06.94-2.06 2.06-.94-2.06-.94-.94-2.06-.94 2.06-2.06.94z\"/><path d=\"M17.41 7.96l-1.37-1.37c-.4-.4-.92-.59-1.43-.59-.52 0-1.04.2-1.43.59L10.3 9.45l-7.72 7.72c-.78.78-.78 2.05 0 2.83L4 21.41c.39.39.9.59 1.41.59.51 0 1.02-.2 1.41-.59l7.78-7.78 2.81-2.81c.8-.78.8-2.07 0-2.86zM5.41 20L4 18.59l7.72-7.72 1.47 1.35L5.41 20z\"/>\n",
       "  </svg>\n",
       "      </button>\n",
       "      \n",
       "  <style>\n",
       "    .colab-df-container {\n",
       "      display:flex;\n",
       "      flex-wrap:wrap;\n",
       "      gap: 12px;\n",
       "    }\n",
       "\n",
       "    .colab-df-convert {\n",
       "      background-color: #E8F0FE;\n",
       "      border: none;\n",
       "      border-radius: 50%;\n",
       "      cursor: pointer;\n",
       "      display: none;\n",
       "      fill: #1967D2;\n",
       "      height: 32px;\n",
       "      padding: 0 0 0 0;\n",
       "      width: 32px;\n",
       "    }\n",
       "\n",
       "    .colab-df-convert:hover {\n",
       "      background-color: #E2EBFA;\n",
       "      box-shadow: 0px 1px 2px rgba(60, 64, 67, 0.3), 0px 1px 3px 1px rgba(60, 64, 67, 0.15);\n",
       "      fill: #174EA6;\n",
       "    }\n",
       "\n",
       "    [theme=dark] .colab-df-convert {\n",
       "      background-color: #3B4455;\n",
       "      fill: #D2E3FC;\n",
       "    }\n",
       "\n",
       "    [theme=dark] .colab-df-convert:hover {\n",
       "      background-color: #434B5C;\n",
       "      box-shadow: 0px 1px 3px 1px rgba(0, 0, 0, 0.15);\n",
       "      filter: drop-shadow(0px 1px 2px rgba(0, 0, 0, 0.3));\n",
       "      fill: #FFFFFF;\n",
       "    }\n",
       "  </style>\n",
       "\n",
       "      <script>\n",
       "        const buttonEl =\n",
       "          document.querySelector('#df-67da4e6c-715d-4dea-9f8b-e0ffdc6c57de button.colab-df-convert');\n",
       "        buttonEl.style.display =\n",
       "          google.colab.kernel.accessAllowed ? 'block' : 'none';\n",
       "\n",
       "        async function convertToInteractive(key) {\n",
       "          const element = document.querySelector('#df-67da4e6c-715d-4dea-9f8b-e0ffdc6c57de');\n",
       "          const dataTable =\n",
       "            await google.colab.kernel.invokeFunction('convertToInteractive',\n",
       "                                                     [key], {});\n",
       "          if (!dataTable) return;\n",
       "\n",
       "          const docLinkHtml = 'Like what you see? Visit the ' +\n",
       "            '<a target=\"_blank\" href=https://colab.research.google.com/notebooks/data_table.ipynb>data table notebook</a>'\n",
       "            + ' to learn more about interactive tables.';\n",
       "          element.innerHTML = '';\n",
       "          dataTable['output_type'] = 'display_data';\n",
       "          await google.colab.output.renderOutput(dataTable, element);\n",
       "          const docLink = document.createElement('div');\n",
       "          docLink.innerHTML = docLinkHtml;\n",
       "          element.appendChild(docLink);\n",
       "        }\n",
       "      </script>\n",
       "    </div>\n",
       "  </div>\n",
       "  "
      ],
      "text/plain": [
       "           Sno  AGE  SEX CASTE_NAME CATEGORY_CODE             CATEGORY_NAME  \\\n",
       "0            1   56    2         BC            M6                NEPHROLOGY   \n",
       "1            2   37    1         BC            M6                NEPHROLOGY   \n",
       "2            3   50    1         BC            M6                NEPHROLOGY   \n",
       "3            4   45    1         BC            M6                NEPHROLOGY   \n",
       "4            5   54    1         BC            M6                NEPHROLOGY   \n",
       "...        ...  ...  ...        ...           ...                       ...   \n",
       "335389  335390   65    1         SC            S3    OPHTHALMOLOGY  SURGERY   \n",
       "335390  335391   54    2         OC           S12          MEDICAL ONCOLOGY   \n",
       "335391  335392   19    2         SC           S12          MEDICAL ONCOLOGY   \n",
       "335392  335393   50    1         BC            S9  GENITO URINARY SURGERIES   \n",
       "335393  335394   46    2         SC           S12          MEDICAL ONCOLOGY   \n",
       "\n",
       "       SURGERY_CODE                                            SURGERY  \\\n",
       "0              M6.5                   Maintenance Hemodialysis For Crf   \n",
       "1              M6.5                   Maintenance Hemodialysis For Crf   \n",
       "2              M6.5                   Maintenance Hemodialysis For Crf   \n",
       "3              M6.5                   Maintenance Hemodialysis For Crf   \n",
       "4              M6.5                   Maintenance Hemodialysis For Crf   \n",
       "...             ...                                                ...   \n",
       "335389         SU66         Vitrectomy Plus Silicon Oil Or Gas (14.75)   \n",
       "335390      S12.1.4     Chemotherapy for Breast Cancer with Paclitaxel   \n",
       "335391     S12.28.1       Palliative Chemotherapy for unlisted Regimen   \n",
       "335392       S9.3.4                                               ursl   \n",
       "335393      S12.2.1  Chemotherapy for Cervical Cancer with Weekly C...   \n",
       "\n",
       "                        VILLAGE   MANDAL_NAME  ...        CLAIM_DATE  \\\n",
       "0                        Lolugu       Ponduru  ...  22-03-2017 20:25   \n",
       "1                     Borivanka        Kaviti  ...  22-03-2017 20:25   \n",
       "2                   Kapasakuddi        Kaviti  ...  22-03-2017 20:25   \n",
       "3                   Telikipenta   Sarubujjili  ...  22-03-2017 20:25   \n",
       "4                 Thandemvalasa    Srikakulam  ...  22-03-2017 20:25   \n",
       "...                         ...           ...  ...               ...   \n",
       "335389             Chintalapudi        Ponnur  ...  04-08-2017 21:23   \n",
       "335390  Udayagiri @ Kondayapale     Udayagiri  ...  02-08-2017 19:11   \n",
       "335391                  Vinduru         Gudur  ...  04-10-2017 19:46   \n",
       "335392                Duppituru  Atchutapuram  ...  04-08-2017 20:59   \n",
       "335393             Ananthavaram  Mummidivaram  ...  09-08-2017 19:43   \n",
       "\n",
       "       CLAIM_AMOUNT                                          HOSP_NAME  \\\n",
       "0             11000            Rims Govt. General Hospital, Srikakulam   \n",
       "1             11000            Rims Govt. General Hospital, Srikakulam   \n",
       "2             11500            Rims Govt. General Hospital, Srikakulam   \n",
       "3             11000            Rims Govt. General Hospital, Srikakulam   \n",
       "4             11000            Rims Govt. General Hospital, Srikakulam   \n",
       "...             ...                                                ...   \n",
       "335389        23320                                Sankar Eye Hospital   \n",
       "335390         7140  BASAVATARAKAM INDO AMERICAN CANCER HOSPITAL an...   \n",
       "335391         5000                                    M.N.J.Hospitals   \n",
       "335392        25000             GAJUWAKA HOSPITALS PVT LTD RK HOSPITAL   \n",
       "335393         2040  SURYA GLOBAL MULTI SPECIALITY HOSPITALS AND CA...   \n",
       "\n",
       "       HOSP_TYPE   HOSP_DISTRICT      SURGERY_DATE    DISCHARGE_DATE  \\\n",
       "0              G      Srikakulam  06-08-2013 00:00  07-09-2013 00:00   \n",
       "1              G      Srikakulam  08-08-2013 00:00  09-09-2013 00:00   \n",
       "2              G      Srikakulam  15-08-2013 00:00  18-10-2013 00:00   \n",
       "3              G      Srikakulam  24-08-2013 00:00  27-09-2013 00:00   \n",
       "4              G      Srikakulam  31-08-2013 00:00  02-10-2013 00:00   \n",
       "...          ...             ...               ...               ...   \n",
       "335389         C          Guntur  09-06-2017 00:00  10-06-2017 00:00   \n",
       "335390         C       Hyderabad  06-06-2017 00:00  06-06-2017 00:00   \n",
       "335391         G       Hyderabad  09-06-2017 00:00  10-06-2017 00:00   \n",
       "335392         C  Vishakhapatnam  06-06-2017 00:00  10-06-2017 00:00   \n",
       "335393         C   East Godavari  07-06-2017 00:00  07-06-2017 00:00   \n",
       "\n",
       "       Mortality Y / N MORTALITY_DATE SRC_REGISTRATION  \n",
       "0                   NO            NaN                D  \n",
       "1                   NO            NaN                D  \n",
       "2                   NO            NaN                D  \n",
       "3                   NO            NaN                D  \n",
       "4                   NO            NaN                D  \n",
       "...                ...            ...              ...  \n",
       "335389              NO            NaN                D  \n",
       "335390              NO            NaN                D  \n",
       "335391              NO            NaN                D  \n",
       "335392              NO            NaN                D  \n",
       "335393              NO            NaN               MC  \n",
       "\n",
       "[335394 rows x 23 columns]"
      ]
     },
     "execution_count": 55,
     "metadata": {},
     "output_type": "execute_result"
    }
   ],
   "source": [
    "# Javobni shuyerga yozing\n",
    "dict = {'Erkak':1,'Ayol':2}\n",
    "df['SEX'] = df['SEX'].map(dict)\n",
    "df"
   ]
  },
  {
   "cell_type": "code",
   "execution_count": null,
   "metadata": {
    "cellView": "form",
    "id": "Ou0DKvEm3ZxW"
   },
   "outputs": [],
   "source": [
    "#@title **To'g'ri javob**\n",
    "dict2 = {'Erkak':1, 'Ayol':0}\n",
    "df[\"SEX\"] = df[\"SEX\"].map(dict2)\n",
    "df.head(5)"
   ]
  },
  {
   "cell_type": "markdown",
   "metadata": {
    "id": "i4n7ulS75WA4"
   },
   "source": [
    "#### **6-mashq**. Shu jarayonni HOSP_TYPE ustuni uchun ham amalga oshiring. \n",
    "*   G - General hospital (umumiy kasalxona) degani\n",
    "*   C - Special hospital (maxsus kasalxona) degani\n",
    "<br><b>O'zgarish quyidagicha bo'lsin:</b>\n",
    "*   G -> Umumiy \n",
    "*   C -> Maxsus\n"
   ]
  },
  {
   "cell_type": "code",
   "execution_count": 57,
   "metadata": {
    "colab": {
     "base_uri": "https://localhost:8080/",
     "height": 577
    },
    "id": "BEokSEre43GK",
    "outputId": "751b78a9-9537-4119-f6d5-1bde5b5fa191"
   },
   "outputs": [
    {
     "data": {
      "text/html": [
       "\n",
       "  <div id=\"df-604b8f58-452f-436f-abd8-b5dbfc46eac0\">\n",
       "    <div class=\"colab-df-container\">\n",
       "      <div>\n",
       "<style scoped>\n",
       "    .dataframe tbody tr th:only-of-type {\n",
       "        vertical-align: middle;\n",
       "    }\n",
       "\n",
       "    .dataframe tbody tr th {\n",
       "        vertical-align: top;\n",
       "    }\n",
       "\n",
       "    .dataframe thead th {\n",
       "        text-align: right;\n",
       "    }\n",
       "</style>\n",
       "<table border=\"1\" class=\"dataframe\">\n",
       "  <thead>\n",
       "    <tr style=\"text-align: right;\">\n",
       "      <th></th>\n",
       "      <th>Sno</th>\n",
       "      <th>AGE</th>\n",
       "      <th>SEX</th>\n",
       "      <th>CASTE_NAME</th>\n",
       "      <th>CATEGORY_CODE</th>\n",
       "      <th>CATEGORY_NAME</th>\n",
       "      <th>SURGERY_CODE</th>\n",
       "      <th>SURGERY</th>\n",
       "      <th>VILLAGE</th>\n",
       "      <th>MANDAL_NAME</th>\n",
       "      <th>...</th>\n",
       "      <th>CLAIM_DATE</th>\n",
       "      <th>CLAIM_AMOUNT</th>\n",
       "      <th>HOSP_NAME</th>\n",
       "      <th>HOSP_TYPE</th>\n",
       "      <th>HOSP_DISTRICT</th>\n",
       "      <th>SURGERY_DATE</th>\n",
       "      <th>DISCHARGE_DATE</th>\n",
       "      <th>Mortality Y / N</th>\n",
       "      <th>MORTALITY_DATE</th>\n",
       "      <th>SRC_REGISTRATION</th>\n",
       "    </tr>\n",
       "  </thead>\n",
       "  <tbody>\n",
       "    <tr>\n",
       "      <th>0</th>\n",
       "      <td>1</td>\n",
       "      <td>56</td>\n",
       "      <td>2</td>\n",
       "      <td>BC</td>\n",
       "      <td>M6</td>\n",
       "      <td>NEPHROLOGY</td>\n",
       "      <td>M6.5</td>\n",
       "      <td>Maintenance Hemodialysis For Crf</td>\n",
       "      <td>Lolugu</td>\n",
       "      <td>Ponduru</td>\n",
       "      <td>...</td>\n",
       "      <td>22-03-2017 20:25</td>\n",
       "      <td>11000</td>\n",
       "      <td>Rims Govt. General Hospital, Srikakulam</td>\n",
       "      <td>Umumiy</td>\n",
       "      <td>Srikakulam</td>\n",
       "      <td>06-08-2013 00:00</td>\n",
       "      <td>07-09-2013 00:00</td>\n",
       "      <td>NO</td>\n",
       "      <td>NaN</td>\n",
       "      <td>D</td>\n",
       "    </tr>\n",
       "    <tr>\n",
       "      <th>1</th>\n",
       "      <td>2</td>\n",
       "      <td>37</td>\n",
       "      <td>1</td>\n",
       "      <td>BC</td>\n",
       "      <td>M6</td>\n",
       "      <td>NEPHROLOGY</td>\n",
       "      <td>M6.5</td>\n",
       "      <td>Maintenance Hemodialysis For Crf</td>\n",
       "      <td>Borivanka</td>\n",
       "      <td>Kaviti</td>\n",
       "      <td>...</td>\n",
       "      <td>22-03-2017 20:25</td>\n",
       "      <td>11000</td>\n",
       "      <td>Rims Govt. General Hospital, Srikakulam</td>\n",
       "      <td>Umumiy</td>\n",
       "      <td>Srikakulam</td>\n",
       "      <td>08-08-2013 00:00</td>\n",
       "      <td>09-09-2013 00:00</td>\n",
       "      <td>NO</td>\n",
       "      <td>NaN</td>\n",
       "      <td>D</td>\n",
       "    </tr>\n",
       "    <tr>\n",
       "      <th>2</th>\n",
       "      <td>3</td>\n",
       "      <td>50</td>\n",
       "      <td>1</td>\n",
       "      <td>BC</td>\n",
       "      <td>M6</td>\n",
       "      <td>NEPHROLOGY</td>\n",
       "      <td>M6.5</td>\n",
       "      <td>Maintenance Hemodialysis For Crf</td>\n",
       "      <td>Kapasakuddi</td>\n",
       "      <td>Kaviti</td>\n",
       "      <td>...</td>\n",
       "      <td>22-03-2017 20:25</td>\n",
       "      <td>11500</td>\n",
       "      <td>Rims Govt. General Hospital, Srikakulam</td>\n",
       "      <td>Umumiy</td>\n",
       "      <td>Srikakulam</td>\n",
       "      <td>15-08-2013 00:00</td>\n",
       "      <td>18-10-2013 00:00</td>\n",
       "      <td>NO</td>\n",
       "      <td>NaN</td>\n",
       "      <td>D</td>\n",
       "    </tr>\n",
       "    <tr>\n",
       "      <th>3</th>\n",
       "      <td>4</td>\n",
       "      <td>45</td>\n",
       "      <td>1</td>\n",
       "      <td>BC</td>\n",
       "      <td>M6</td>\n",
       "      <td>NEPHROLOGY</td>\n",
       "      <td>M6.5</td>\n",
       "      <td>Maintenance Hemodialysis For Crf</td>\n",
       "      <td>Telikipenta</td>\n",
       "      <td>Sarubujjili</td>\n",
       "      <td>...</td>\n",
       "      <td>22-03-2017 20:25</td>\n",
       "      <td>11000</td>\n",
       "      <td>Rims Govt. General Hospital, Srikakulam</td>\n",
       "      <td>Umumiy</td>\n",
       "      <td>Srikakulam</td>\n",
       "      <td>24-08-2013 00:00</td>\n",
       "      <td>27-09-2013 00:00</td>\n",
       "      <td>NO</td>\n",
       "      <td>NaN</td>\n",
       "      <td>D</td>\n",
       "    </tr>\n",
       "    <tr>\n",
       "      <th>4</th>\n",
       "      <td>5</td>\n",
       "      <td>54</td>\n",
       "      <td>1</td>\n",
       "      <td>BC</td>\n",
       "      <td>M6</td>\n",
       "      <td>NEPHROLOGY</td>\n",
       "      <td>M6.5</td>\n",
       "      <td>Maintenance Hemodialysis For Crf</td>\n",
       "      <td>Thandemvalasa</td>\n",
       "      <td>Srikakulam</td>\n",
       "      <td>...</td>\n",
       "      <td>22-03-2017 20:25</td>\n",
       "      <td>11000</td>\n",
       "      <td>Rims Govt. General Hospital, Srikakulam</td>\n",
       "      <td>Umumiy</td>\n",
       "      <td>Srikakulam</td>\n",
       "      <td>31-08-2013 00:00</td>\n",
       "      <td>02-10-2013 00:00</td>\n",
       "      <td>NO</td>\n",
       "      <td>NaN</td>\n",
       "      <td>D</td>\n",
       "    </tr>\n",
       "  </tbody>\n",
       "</table>\n",
       "<p>5 rows × 23 columns</p>\n",
       "</div>\n",
       "      <button class=\"colab-df-convert\" onclick=\"convertToInteractive('df-604b8f58-452f-436f-abd8-b5dbfc46eac0')\"\n",
       "              title=\"Convert this dataframe to an interactive table.\"\n",
       "              style=\"display:none;\">\n",
       "        \n",
       "  <svg xmlns=\"http://www.w3.org/2000/svg\" height=\"24px\"viewBox=\"0 0 24 24\"\n",
       "       width=\"24px\">\n",
       "    <path d=\"M0 0h24v24H0V0z\" fill=\"none\"/>\n",
       "    <path d=\"M18.56 5.44l.94 2.06.94-2.06 2.06-.94-2.06-.94-.94-2.06-.94 2.06-2.06.94zm-11 1L8.5 8.5l.94-2.06 2.06-.94-2.06-.94L8.5 2.5l-.94 2.06-2.06.94zm10 10l.94 2.06.94-2.06 2.06-.94-2.06-.94-.94-2.06-.94 2.06-2.06.94z\"/><path d=\"M17.41 7.96l-1.37-1.37c-.4-.4-.92-.59-1.43-.59-.52 0-1.04.2-1.43.59L10.3 9.45l-7.72 7.72c-.78.78-.78 2.05 0 2.83L4 21.41c.39.39.9.59 1.41.59.51 0 1.02-.2 1.41-.59l7.78-7.78 2.81-2.81c.8-.78.8-2.07 0-2.86zM5.41 20L4 18.59l7.72-7.72 1.47 1.35L5.41 20z\"/>\n",
       "  </svg>\n",
       "      </button>\n",
       "      \n",
       "  <style>\n",
       "    .colab-df-container {\n",
       "      display:flex;\n",
       "      flex-wrap:wrap;\n",
       "      gap: 12px;\n",
       "    }\n",
       "\n",
       "    .colab-df-convert {\n",
       "      background-color: #E8F0FE;\n",
       "      border: none;\n",
       "      border-radius: 50%;\n",
       "      cursor: pointer;\n",
       "      display: none;\n",
       "      fill: #1967D2;\n",
       "      height: 32px;\n",
       "      padding: 0 0 0 0;\n",
       "      width: 32px;\n",
       "    }\n",
       "\n",
       "    .colab-df-convert:hover {\n",
       "      background-color: #E2EBFA;\n",
       "      box-shadow: 0px 1px 2px rgba(60, 64, 67, 0.3), 0px 1px 3px 1px rgba(60, 64, 67, 0.15);\n",
       "      fill: #174EA6;\n",
       "    }\n",
       "\n",
       "    [theme=dark] .colab-df-convert {\n",
       "      background-color: #3B4455;\n",
       "      fill: #D2E3FC;\n",
       "    }\n",
       "\n",
       "    [theme=dark] .colab-df-convert:hover {\n",
       "      background-color: #434B5C;\n",
       "      box-shadow: 0px 1px 3px 1px rgba(0, 0, 0, 0.15);\n",
       "      filter: drop-shadow(0px 1px 2px rgba(0, 0, 0, 0.3));\n",
       "      fill: #FFFFFF;\n",
       "    }\n",
       "  </style>\n",
       "\n",
       "      <script>\n",
       "        const buttonEl =\n",
       "          document.querySelector('#df-604b8f58-452f-436f-abd8-b5dbfc46eac0 button.colab-df-convert');\n",
       "        buttonEl.style.display =\n",
       "          google.colab.kernel.accessAllowed ? 'block' : 'none';\n",
       "\n",
       "        async function convertToInteractive(key) {\n",
       "          const element = document.querySelector('#df-604b8f58-452f-436f-abd8-b5dbfc46eac0');\n",
       "          const dataTable =\n",
       "            await google.colab.kernel.invokeFunction('convertToInteractive',\n",
       "                                                     [key], {});\n",
       "          if (!dataTable) return;\n",
       "\n",
       "          const docLinkHtml = 'Like what you see? Visit the ' +\n",
       "            '<a target=\"_blank\" href=https://colab.research.google.com/notebooks/data_table.ipynb>data table notebook</a>'\n",
       "            + ' to learn more about interactive tables.';\n",
       "          element.innerHTML = '';\n",
       "          dataTable['output_type'] = 'display_data';\n",
       "          await google.colab.output.renderOutput(dataTable, element);\n",
       "          const docLink = document.createElement('div');\n",
       "          docLink.innerHTML = docLinkHtml;\n",
       "          element.appendChild(docLink);\n",
       "        }\n",
       "      </script>\n",
       "    </div>\n",
       "  </div>\n",
       "  "
      ],
      "text/plain": [
       "   Sno  AGE  SEX CASTE_NAME CATEGORY_CODE CATEGORY_NAME SURGERY_CODE  \\\n",
       "0    1   56    2         BC            M6    NEPHROLOGY         M6.5   \n",
       "1    2   37    1         BC            M6    NEPHROLOGY         M6.5   \n",
       "2    3   50    1         BC            M6    NEPHROLOGY         M6.5   \n",
       "3    4   45    1         BC            M6    NEPHROLOGY         M6.5   \n",
       "4    5   54    1         BC            M6    NEPHROLOGY         M6.5   \n",
       "\n",
       "                            SURGERY        VILLAGE  MANDAL_NAME  ...  \\\n",
       "0  Maintenance Hemodialysis For Crf         Lolugu      Ponduru  ...   \n",
       "1  Maintenance Hemodialysis For Crf      Borivanka       Kaviti  ...   \n",
       "2  Maintenance Hemodialysis For Crf    Kapasakuddi       Kaviti  ...   \n",
       "3  Maintenance Hemodialysis For Crf    Telikipenta  Sarubujjili  ...   \n",
       "4  Maintenance Hemodialysis For Crf  Thandemvalasa   Srikakulam  ...   \n",
       "\n",
       "         CLAIM_DATE CLAIM_AMOUNT                                HOSP_NAME  \\\n",
       "0  22-03-2017 20:25        11000  Rims Govt. General Hospital, Srikakulam   \n",
       "1  22-03-2017 20:25        11000  Rims Govt. General Hospital, Srikakulam   \n",
       "2  22-03-2017 20:25        11500  Rims Govt. General Hospital, Srikakulam   \n",
       "3  22-03-2017 20:25        11000  Rims Govt. General Hospital, Srikakulam   \n",
       "4  22-03-2017 20:25        11000  Rims Govt. General Hospital, Srikakulam   \n",
       "\n",
       "  HOSP_TYPE  HOSP_DISTRICT      SURGERY_DATE    DISCHARGE_DATE  \\\n",
       "0    Umumiy     Srikakulam  06-08-2013 00:00  07-09-2013 00:00   \n",
       "1    Umumiy     Srikakulam  08-08-2013 00:00  09-09-2013 00:00   \n",
       "2    Umumiy     Srikakulam  15-08-2013 00:00  18-10-2013 00:00   \n",
       "3    Umumiy     Srikakulam  24-08-2013 00:00  27-09-2013 00:00   \n",
       "4    Umumiy     Srikakulam  31-08-2013 00:00  02-10-2013 00:00   \n",
       "\n",
       "  Mortality Y / N MORTALITY_DATE SRC_REGISTRATION  \n",
       "0              NO            NaN                D  \n",
       "1              NO            NaN                D  \n",
       "2              NO            NaN                D  \n",
       "3              NO            NaN                D  \n",
       "4              NO            NaN                D  \n",
       "\n",
       "[5 rows x 23 columns]"
      ]
     },
     "execution_count": 57,
     "metadata": {},
     "output_type": "execute_result"
    }
   ],
   "source": [
    "# Javobni shuyerga yozing\n",
    "# df[\"HOSP_TYPE\"] = df[\"HOSP_TYPE\"].map({'G':\"Umumiy\", 'C':\"Maxsus\"})\n",
    "df.head()"
   ]
  },
  {
   "cell_type": "code",
   "execution_count": null,
   "metadata": {
    "id": "F-YkbZ3yY2Ij"
   },
   "outputs": [],
   "source": []
  },
  {
   "cell_type": "code",
   "execution_count": null,
   "metadata": {
    "cellView": "form",
    "id": "ALhBzKu35lBb"
   },
   "outputs": [],
   "source": [
    "#@title **To'g'ri javob**\n",
    "df[\"HOSP_TYPE\"] = df[\"HOSP_TYPE\"].map({'G':\"Umumiy\", 'C':\"Maxsus\"})\n"
   ]
  },
  {
   "cell_type": "markdown",
   "metadata": {
    "id": "4YozaezB4qqa"
   },
   "source": [
    "#### **7-mashq**. O'zgartirish amalga oshirilgach, HOSP_TYPE ustunida qancha Umumiy va qancha Maxsus kasalxonalar borligini ham aniqlang\n"
   ]
  },
  {
   "cell_type": "code",
   "execution_count": 58,
   "metadata": {
    "colab": {
     "base_uri": "https://localhost:8080/"
    },
    "id": "XNa8b4s25IUN",
    "outputId": "ee96724c-9106-4d04-aeb0-fec0c2101e0b"
   },
   "outputs": [
    {
     "data": {
      "text/plain": [
       "Maxsus    241139\n",
       "Umumiy     94255\n",
       "Name: HOSP_TYPE, dtype: int64"
      ]
     },
     "execution_count": 58,
     "metadata": {},
     "output_type": "execute_result"
    }
   ],
   "source": [
    "# Javobni shuyerga yozing\n",
    "df['HOSP_TYPE'].value_counts()"
   ]
  },
  {
   "cell_type": "code",
   "execution_count": null,
   "metadata": {
    "cellView": "form",
    "id": "j472LUxgU0P-"
   },
   "outputs": [],
   "source": [
    "#@title **To'g'ri javob**\n",
    "df[\"HOSP_TYPE\"].value_counts()"
   ]
  },
  {
   "cell_type": "markdown",
   "metadata": {
    "id": "kEr2LYiJ_I-k"
   },
   "source": [
    "#### **8-mashq**. Datasetda qancha takrorlangan qatorlar borligini aniqlang  \n"
   ]
  },
  {
   "cell_type": "code",
   "execution_count": 60,
   "metadata": {
    "colab": {
     "base_uri": "https://localhost:8080/"
    },
    "id": "7EzWPhDZ_i5o",
    "outputId": "8fac5ae2-0dd4-4760-ea47-0388db85b47e"
   },
   "outputs": [
    {
     "data": {
      "text/plain": [
       "0"
      ]
     },
     "execution_count": 60,
     "metadata": {},
     "output_type": "execute_result"
    }
   ],
   "source": [
    "# Javobni shuyerga yozing\n",
    "df.duplicated().sum()"
   ]
  },
  {
   "cell_type": "code",
   "execution_count": null,
   "metadata": {
    "cellView": "form",
    "id": "J3yF9CKM5eTs"
   },
   "outputs": [],
   "source": [
    "#@title **To'g'ri javob**\n",
    "sum(df.duplicated())"
   ]
  },
  {
   "cell_type": "markdown",
   "metadata": {
    "id": "6gphfgtd_nJK"
   },
   "source": [
    "#### **9-mashq**. Datasetda barcha takrorlangan qatorlarni o'chirib yuboring  \n"
   ]
  },
  {
   "cell_type": "code",
   "execution_count": 68,
   "metadata": {
    "id": "DdsEuZXg_tEd"
   },
   "outputs": [],
   "source": [
    "# Javobni shuyerga yozing\n",
    "df.drop_duplicates(inplace=True)"
   ]
  },
  {
   "cell_type": "code",
   "execution_count": null,
   "metadata": {
    "cellView": "form",
    "id": "sy_c4uyI_t6f"
   },
   "outputs": [],
   "source": [
    "#@title **To'g'ri javob**\n",
    "df.drop_duplicates(inplace=True)"
   ]
  },
  {
   "cell_type": "markdown",
   "metadata": {
    "id": "bN26F9LP_2RE"
   },
   "source": [
    "#### **10-mashq**. Datasetdan shifoxona turiga ko'ra (umumiy va maxsus), ClAIM_AMOUNTning o'rtacha qiymatlarini toping.\n"
   ]
  },
  {
   "cell_type": "code",
   "execution_count": 72,
   "metadata": {
    "colab": {
     "base_uri": "https://localhost:8080/"
    },
    "id": "t2NcocXLFI78",
    "outputId": "161b105e-f942-4d77-e546-3ee67c2a8f3f"
   },
   "outputs": [
    {
     "data": {
      "text/plain": [
       "HOSP_TYPE\n",
       "Maxsus    30272.214457\n",
       "Umumiy    22683.900769\n",
       "Name: CLAIM_AMOUNT, dtype: float64"
      ]
     },
     "execution_count": 72,
     "metadata": {},
     "output_type": "execute_result"
    }
   ],
   "source": [
    "# Javobni shuyerga yozing\n",
    "df.groupby('HOSP_TYPE').CLAIM_AMOUNT.mean()"
   ]
  },
  {
   "cell_type": "code",
   "execution_count": null,
   "metadata": {
    "cellView": "form",
    "id": "vpa7vDJWAc6u"
   },
   "outputs": [],
   "source": [
    "#@title **To'g'ri javob**\n",
    "df.groupby('HOSP_TYPE').CLAIM_AMOUNT.mean()\n"
   ]
  },
  {
   "cell_type": "markdown",
   "metadata": {
    "id": "7QnvZvW6F3Su"
   },
   "source": [
    "#### **11-mashq**. Datasetdan shifoxona turiga ko'ra (umumiy va maxsus), ClAIM_AMOUNTning minimum qiymatlarini toping.\n"
   ]
  },
  {
   "cell_type": "code",
   "execution_count": 76,
   "metadata": {
    "colab": {
     "base_uri": "https://localhost:8080/"
    },
    "id": "5K42PI7tF0On",
    "outputId": "4a3a79f9-a08f-4c78-e6d1-3406d6575020"
   },
   "outputs": [
    {
     "data": {
      "text/plain": [
       "HOSP_TYPE\n",
       "Maxsus    2\n",
       "Umumiy    2\n",
       "Name: CLAIM_AMOUNT, dtype: int64"
      ]
     },
     "execution_count": 76,
     "metadata": {},
     "output_type": "execute_result"
    }
   ],
   "source": [
    "# Javobni shuyerga yozing\n",
    "df.groupby('HOSP_TYPE').CLAIM_AMOUNT.min()"
   ]
  },
  {
   "cell_type": "code",
   "execution_count": null,
   "metadata": {
    "cellView": "form",
    "id": "znwYPfq5F0Sy"
   },
   "outputs": [],
   "source": [
    "#@title **To'g'ri javob**\n",
    "df.groupby('HOSP_TYPE').CLAIM_AMOUNT.min()"
   ]
  },
  {
   "cell_type": "markdown",
   "metadata": {
    "id": "KQKllXlaF5D7"
   },
   "source": [
    "#### **12-mashq**. Datasetdan shifoxona turiga ko'ra (umumiy va maxsus), CLAIM_AMOUNTning maksimum qiymatlarini toping.\n"
   ]
  },
  {
   "cell_type": "code",
   "execution_count": 77,
   "metadata": {
    "colab": {
     "base_uri": "https://localhost:8080/"
    },
    "id": "7RNQVzsCF8-m",
    "outputId": "d30cde61-6890-4983-e05e-3145e8f377a4"
   },
   "outputs": [
    {
     "data": {
      "text/plain": [
       "HOSP_TYPE\n",
       "Maxsus    520000\n",
       "Umumiy    520000\n",
       "Name: CLAIM_AMOUNT, dtype: int64"
      ]
     },
     "execution_count": 77,
     "metadata": {},
     "output_type": "execute_result"
    }
   ],
   "source": [
    "# Javobni shuyerga yozing\n",
    "\n",
    "df.groupby('HOSP_TYPE').CLAIM_AMOUNT.max()"
   ]
  },
  {
   "cell_type": "code",
   "execution_count": null,
   "metadata": {
    "cellView": "form",
    "id": "PM-8O6dZF-c_"
   },
   "outputs": [],
   "source": [
    "#@title **To'g'ri javob**\n",
    "df.groupby('HOSP_TYPE').CLAIM_AMOUNT.max()"
   ]
  },
  {
   "cell_type": "markdown",
   "metadata": {
    "id": "JhL3fPU4HJkK"
   },
   "source": [
    ".agg() yordamida istalgan funksiyalarni chaqirishimiz mumkin, misol uchun numpy dagi mean (o'rta qiymat) funiksiyasini ham qo'shamiz. Natijalarni faqat price ustuni uchun chiqaramiz:"
   ]
  },
  {
   "cell_type": "markdown",
   "metadata": {
    "id": "ZaAwTY8RHLBB"
   },
   "source": [
    "#### **13-mashq**. Datasetdan jinsiga ko'ra CLAIM_AMOUNTning min, max va o'rta qiymatlarni agg() usuli yordamida toping.\n",
    "\n"
   ]
  },
  {
   "cell_type": "code",
   "execution_count": 80,
   "metadata": {
    "colab": {
     "base_uri": "https://localhost:8080/",
     "height": 143
    },
    "id": "-X_HduSGH00I",
    "outputId": "18be8590-0a7f-4fa9-94ca-b0550eb32f11"
   },
   "outputs": [
    {
     "data": {
      "text/html": [
       "\n",
       "  <div id=\"df-4317feda-e586-4998-ae5d-b289f34f6980\">\n",
       "    <div class=\"colab-df-container\">\n",
       "      <div>\n",
       "<style scoped>\n",
       "    .dataframe tbody tr th:only-of-type {\n",
       "        vertical-align: middle;\n",
       "    }\n",
       "\n",
       "    .dataframe tbody tr th {\n",
       "        vertical-align: top;\n",
       "    }\n",
       "\n",
       "    .dataframe thead th {\n",
       "        text-align: right;\n",
       "    }\n",
       "</style>\n",
       "<table border=\"1\" class=\"dataframe\">\n",
       "  <thead>\n",
       "    <tr style=\"text-align: right;\">\n",
       "      <th></th>\n",
       "      <th>min</th>\n",
       "      <th>max</th>\n",
       "      <th>mean</th>\n",
       "    </tr>\n",
       "    <tr>\n",
       "      <th>SEX</th>\n",
       "      <th></th>\n",
       "      <th></th>\n",
       "      <th></th>\n",
       "    </tr>\n",
       "  </thead>\n",
       "  <tbody>\n",
       "    <tr>\n",
       "      <th>1</th>\n",
       "      <td>2</td>\n",
       "      <td>520000</td>\n",
       "      <td>29584.682625</td>\n",
       "    </tr>\n",
       "    <tr>\n",
       "      <th>2</th>\n",
       "      <td>2</td>\n",
       "      <td>520000</td>\n",
       "      <td>25958.693494</td>\n",
       "    </tr>\n",
       "  </tbody>\n",
       "</table>\n",
       "</div>\n",
       "      <button class=\"colab-df-convert\" onclick=\"convertToInteractive('df-4317feda-e586-4998-ae5d-b289f34f6980')\"\n",
       "              title=\"Convert this dataframe to an interactive table.\"\n",
       "              style=\"display:none;\">\n",
       "        \n",
       "  <svg xmlns=\"http://www.w3.org/2000/svg\" height=\"24px\"viewBox=\"0 0 24 24\"\n",
       "       width=\"24px\">\n",
       "    <path d=\"M0 0h24v24H0V0z\" fill=\"none\"/>\n",
       "    <path d=\"M18.56 5.44l.94 2.06.94-2.06 2.06-.94-2.06-.94-.94-2.06-.94 2.06-2.06.94zm-11 1L8.5 8.5l.94-2.06 2.06-.94-2.06-.94L8.5 2.5l-.94 2.06-2.06.94zm10 10l.94 2.06.94-2.06 2.06-.94-2.06-.94-.94-2.06-.94 2.06-2.06.94z\"/><path d=\"M17.41 7.96l-1.37-1.37c-.4-.4-.92-.59-1.43-.59-.52 0-1.04.2-1.43.59L10.3 9.45l-7.72 7.72c-.78.78-.78 2.05 0 2.83L4 21.41c.39.39.9.59 1.41.59.51 0 1.02-.2 1.41-.59l7.78-7.78 2.81-2.81c.8-.78.8-2.07 0-2.86zM5.41 20L4 18.59l7.72-7.72 1.47 1.35L5.41 20z\"/>\n",
       "  </svg>\n",
       "      </button>\n",
       "      \n",
       "  <style>\n",
       "    .colab-df-container {\n",
       "      display:flex;\n",
       "      flex-wrap:wrap;\n",
       "      gap: 12px;\n",
       "    }\n",
       "\n",
       "    .colab-df-convert {\n",
       "      background-color: #E8F0FE;\n",
       "      border: none;\n",
       "      border-radius: 50%;\n",
       "      cursor: pointer;\n",
       "      display: none;\n",
       "      fill: #1967D2;\n",
       "      height: 32px;\n",
       "      padding: 0 0 0 0;\n",
       "      width: 32px;\n",
       "    }\n",
       "\n",
       "    .colab-df-convert:hover {\n",
       "      background-color: #E2EBFA;\n",
       "      box-shadow: 0px 1px 2px rgba(60, 64, 67, 0.3), 0px 1px 3px 1px rgba(60, 64, 67, 0.15);\n",
       "      fill: #174EA6;\n",
       "    }\n",
       "\n",
       "    [theme=dark] .colab-df-convert {\n",
       "      background-color: #3B4455;\n",
       "      fill: #D2E3FC;\n",
       "    }\n",
       "\n",
       "    [theme=dark] .colab-df-convert:hover {\n",
       "      background-color: #434B5C;\n",
       "      box-shadow: 0px 1px 3px 1px rgba(0, 0, 0, 0.15);\n",
       "      filter: drop-shadow(0px 1px 2px rgba(0, 0, 0, 0.3));\n",
       "      fill: #FFFFFF;\n",
       "    }\n",
       "  </style>\n",
       "\n",
       "      <script>\n",
       "        const buttonEl =\n",
       "          document.querySelector('#df-4317feda-e586-4998-ae5d-b289f34f6980 button.colab-df-convert');\n",
       "        buttonEl.style.display =\n",
       "          google.colab.kernel.accessAllowed ? 'block' : 'none';\n",
       "\n",
       "        async function convertToInteractive(key) {\n",
       "          const element = document.querySelector('#df-4317feda-e586-4998-ae5d-b289f34f6980');\n",
       "          const dataTable =\n",
       "            await google.colab.kernel.invokeFunction('convertToInteractive',\n",
       "                                                     [key], {});\n",
       "          if (!dataTable) return;\n",
       "\n",
       "          const docLinkHtml = 'Like what you see? Visit the ' +\n",
       "            '<a target=\"_blank\" href=https://colab.research.google.com/notebooks/data_table.ipynb>data table notebook</a>'\n",
       "            + ' to learn more about interactive tables.';\n",
       "          element.innerHTML = '';\n",
       "          dataTable['output_type'] = 'display_data';\n",
       "          await google.colab.output.renderOutput(dataTable, element);\n",
       "          const docLink = document.createElement('div');\n",
       "          docLink.innerHTML = docLinkHtml;\n",
       "          element.appendChild(docLink);\n",
       "        }\n",
       "      </script>\n",
       "    </div>\n",
       "  </div>\n",
       "  "
      ],
      "text/plain": [
       "     min     max          mean\n",
       "SEX                           \n",
       "1      2  520000  29584.682625\n",
       "2      2  520000  25958.693494"
      ]
     },
     "execution_count": 80,
     "metadata": {},
     "output_type": "execute_result"
    }
   ],
   "source": [
    "# Javobni shuyerga yozing\n",
    "df.groupby('SEX').CLAIM_AMOUNT.agg([min,max,np.mean])"
   ]
  },
  {
   "cell_type": "code",
   "execution_count": null,
   "metadata": {
    "cellView": "form",
    "id": "3372GXlAHsvB"
   },
   "outputs": [],
   "source": [
    "#@title **To'g'ri javob**\n",
    "df.groupby('SEX').CLAIM_AMOUNT.agg([min, max, np.mean])\n"
   ]
  }
 ],
 "metadata": {
  "colab": {
   "provenance": []
  },
  "kernelspec": {
   "display_name": "Python 3 (ipykernel)",
   "language": "python",
   "name": "python3"
  },
  "language_info": {
   "name": "python"
  }
 },
 "nbformat": 4,
 "nbformat_minor": 1
}
